{
 "cells": [
  {
   "cell_type": "markdown",
   "metadata": {},
   "source": [
    "Tendo em vista que o tamanho do Colab excede o limite do Github, envio o link do Colab com o Tranfer Learning da Sprint 4:\n",
    "https://colab.research.google.com/drive/1PyHAqHxoPyX0O7T5SWWNOzZX2ZhsdBtm#scrollTo=R9R8Bp5DpiGS"
   ]
  }
 ],
 "metadata": {
  "language_info": {
   "name": "python"
  }
 },
 "nbformat": 4,
 "nbformat_minor": 2
}
