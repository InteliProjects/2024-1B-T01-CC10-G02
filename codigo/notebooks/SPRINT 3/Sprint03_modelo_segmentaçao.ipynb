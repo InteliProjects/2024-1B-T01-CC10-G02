{
  "cells": [
    {
      "cell_type": "markdown",
      "metadata": {
        "id": "cQl90jW20q1D"
      },
      "source": [
        "# Obter dados no drive"
      ]
    },
    {
      "cell_type": "code",
      "execution_count": null,
      "metadata": {
        "colab": {
          "base_uri": "https://localhost:8080/"
        },
        "id": "M97Z2Z1BTDYl",
        "outputId": "cb36f9f8-d67b-4721-c970-763c3a291343"
      },
      "outputs": [],
      "source": [
        "!pip install pyxlsb"
      ]
    },
    {
      "cell_type": "code",
      "execution_count": null,
      "metadata": {
        "id": "ehPwUJLzSsLC"
      },
      "outputs": [],
      "source": [
        "from google.colab import drive\n",
        "import pandas as pd\n",
        "from pyxlsb import open_workbook\n",
        "import random\n",
        "\n",
        "import zipfile\n",
        "import os\n",
        "\n",
        "\n",
        "from PIL import Image, ImageDraw\n",
        "import matplotlib.pyplot as plt\n",
        "\n",
        "from glob import glob\n",
        "from sklearn.model_selection import train_test_split\n",
        "\n",
        "import numpy as np\n",
        "import tensorflow as tf\n",
        "from keras import layers, models\n",
        "from sklearn.model_selection import train_test_split\n",
        "from tensorflow.keras.preprocessing.image import load_img, img_to_array"
      ]
    },
    {
      "cell_type": "code",
      "execution_count": null,
      "metadata": {
        "colab": {
          "base_uri": "https://localhost:8080/"
        },
        "id": "ibpCXTgmS_Hi",
        "outputId": "06f05806-f9e9-4f6b-c331-c83ac7e8c773"
      },
      "outputs": [],
      "source": [
        "drive.mount('/content/drive')"
      ]
    },
    {
      "cell_type": "markdown",
      "metadata": {
        "id": "3xSP-0NwWdAq"
      },
      "source": [
        "# Divisão de imagens e masks em amostras de treino e teste"
      ]
    },
    {
      "cell_type": "code",
      "execution_count": null,
      "metadata": {
        "id": "Yz6Rn0h26UVx"
      },
      "outputs": [],
      "source": [
        "images = []\n",
        "masks = []\n",
        "\n",
        "for path in glob('/content/drive/Shared drives/Grupo T de Tech/Data/dataset_inteli/cropped_images/*/*'):\n",
        "  images.append(path + '/image.tif')\n",
        "  masks.append(path + '/mask.png')"
      ]
    },
    {
      "cell_type": "code",
      "execution_count": null,
      "metadata": {
        "id": "vgFIh5hrObFb"
      },
      "outputs": [],
      "source": [
        "# Função para carregar e pré-processar uma imagem e sua máscara\n",
        "def load_and_preprocess_image(image_path, mask_path, target_size):\n",
        "\n",
        "    image = load_img(image_path, target_size=target_size)\n",
        "    image = img_to_array(image) / 255.0  # Normalização entre 0 e 1\n",
        "\n",
        "    mask = load_img(mask_path, target_size=target_size, color_mode='grayscale')\n",
        "    mask = img_to_array(mask) / 255.0  # Normalização entre 0 e 1\n",
        "\n",
        "    return image, mask"
      ]
    },
    {
      "cell_type": "code",
      "execution_count": null,
      "metadata": {
        "collapsed": true,
        "id": "Qu_4ZJaKOTGF"
      },
      "outputs": [],
      "source": [
        "with tf.device('/gpu:0'):\n",
        "    # Lista para armazenar imagens e máscaras pré-processadas\n",
        "    images_processed = []\n",
        "    masks_processed = []\n",
        "\n",
        "    # Carregar e pré-processar todas as imagens e máscaras\n",
        "    for img_path, mask_path in zip(images, masks):\n",
        "        img, mask = load_and_preprocess_image(img_path, mask_path, target_size=(256, 256))\n",
        "        images_processed.append(img)\n",
        "        masks_processed.append(mask)\n",
        "\n",
        "    # Converter para arrays numpy\n",
        "    images_processed = np.array(images_processed)\n",
        "    masks_processed = np.array(masks_processed)\n"
      ]
    },
    {
      "cell_type": "code",
      "execution_count": null,
      "metadata": {
        "id": "_xtU7CLmDfqL"
      },
      "outputs": [],
      "source": [
        "X_train, X_val, y_train, y_val = train_test_split(images_processed, masks_processed, test_size=0.2, random_state=42)"
      ]
    },
    {
      "cell_type": "markdown",
      "metadata": {
        "id": "dApijRqyWk_n"
      },
      "source": [
        "# Definição do modelo"
      ]
    },
    {
      "cell_type": "code",
      "execution_count": null,
      "metadata": {
        "id": "oJk0H6D6T9F1"
      },
      "outputs": [],
      "source": [
        "def Unet(input_shape):\n",
        "    inputs = tf.keras.Input(shape=input_shape)\n",
        "\n",
        "    # Encoder (contraction path)\n",
        "    conv1 = layers.Conv2D(64, 3, activation='relu', padding='same')(inputs)\n",
        "    conv1 = layers.Conv2D(64, 3, activation='relu', padding='same')(conv1)\n",
        "    pool1 = layers.MaxPooling2D(pool_size=(2, 2))(conv1)\n",
        "\n",
        "    conv2 = layers.Conv2D(128, 3, activation='relu', padding='same')(pool1)\n",
        "    conv2 = layers.Conv2D(128, 3, activation='relu', padding='same')(conv2)\n",
        "    pool2 = layers.MaxPooling2D(pool_size=(2, 2))(conv2)\n",
        "\n",
        "    # Decoder (expansion path)\n",
        "    up3 = layers.Conv2DTranspose(64, (2, 2), strides=(2, 2), padding='same')(conv2)\n",
        "    merge3 = layers.concatenate([conv1, up3], axis=3)\n",
        "    conv3 = layers.Conv2D(64, 3, activation='relu', padding='same')(merge3)\n",
        "    conv3 = layers.Conv2D(64, 3, activation='relu', padding='same')(conv3)\n",
        "\n",
        "    outputs = layers.Conv2D(1, 1, activation='sigmoid')(conv3)  # Saída com um canal (máscara binária)\n",
        "\n",
        "    model = tf.keras.Model(inputs=inputs, outputs=outputs)\n",
        "    return model"
      ]
    },
    {
      "cell_type": "code",
      "execution_count": null,
      "metadata": {
        "colab": {
          "base_uri": "https://localhost:8080/"
        },
        "id": "OIxkz9tyUEb8",
        "outputId": "641a4c5f-e073-46b9-95f2-3d92a9415e7b"
      },
      "outputs": [],
      "source": [
        "# Criar modelo U-Net\n",
        "model = Unet(input_shape=(256, 256, 3))\n",
        "model.summary()"
      ]
    },
    {
      "cell_type": "markdown",
      "metadata": {
        "id": "_K8INbM9Wpi8"
      },
      "source": [
        "# Treino do modelo"
      ]
    },
    {
      "cell_type": "code",
      "execution_count": null,
      "metadata": {
        "colab": {
          "base_uri": "https://localhost:8080/"
        },
        "id": "MTLb8OpzUHrj",
        "outputId": "be4ecdce-c034-46e6-904a-b254e1582c4b"
      },
      "outputs": [],
      "source": [
        "# Compilar o modelo\n",
        "model.compile(optimizer='adam', loss='binary_crossentropy', metrics=['accuracy'])\n",
        "\n",
        "with tf.device('/gpu:0'):\n",
        "    # Treinar o modelo\n",
        "    history = model.fit(X_train, y_train, validation_data=(X_val, y_val), epochs=20, batch_size=16)"
      ]
    },
    {
      "cell_type": "markdown",
      "metadata": {
        "id": "p_XrQw1fWtkp"
      },
      "source": [
        "# Avaliação do modelo"
      ]
    },
    {
      "cell_type": "code",
      "execution_count": null,
      "metadata": {
        "colab": {
          "base_uri": "https://localhost:8080/"
        },
        "id": "FXe7NUljUoKH",
        "outputId": "ba87d4c7-d093-4b3b-ed00-c9f72d8a8a82"
      },
      "outputs": [],
      "source": [
        "# Avaliar o modelo nos dados de teste\n",
        "results = model.evaluate(X_val, y_val)\n",
        "print(\"Test Loss:\", results[0])\n",
        "print(\"Test Accuracy:\", results[1])\n",
        "\n",
        "# Prever máscaras usando o modelo\n",
        "predicted_masks = model.predict(X_val)"
      ]
    },
    {
      "cell_type": "code",
      "execution_count": null,
      "metadata": {
        "colab": {
          "base_uri": "https://localhost:8080/",
          "height": 1000
        },
        "id": "50cPtSMOWIqb",
        "outputId": "96a3c4ab-b70d-4bb5-ae0f-976b08d47ea3"
      },
      "outputs": [],
      "source": [
        "num_images_to_plot = 5  # número de imagens a serem plotadas\n",
        "\n",
        "imgs_preditas = []\n",
        "\n",
        "plt.figure(figsize=(15, 10))\n",
        "for i in range(num_images_to_plot):\n",
        "    # Plotar imagem original\n",
        "    plt.subplot(num_images_to_plot, 3, i*3 + 1)\n",
        "    plt.imshow(X_val[i])\n",
        "    plt.title(\"Imagem Original\")\n",
        "    plt.axis('off')\n",
        "\n",
        "    # Plotar máscara esperada (ground truth)\n",
        "    plt.subplot(num_images_to_plot, 3, i*3 + 2)\n",
        "    plt.imshow(y_val[i].squeeze(), cmap='gray')  # squeeze para remover o canal de cor\n",
        "    plt.title(\"Máscara Esperada\")\n",
        "    plt.axis('off')\n",
        "\n",
        "    imgs_preditas.append(np.where(predicted_masks[i].squeeze() < 0.5, 0, 1))\n",
        "\n",
        "    # Plotar máscara gerada pelo modelo\n",
        "    plt.subplot(num_images_to_plot, 3, i*3 + 3)\n",
        "    plt.imshow(predicted_masks[i].squeeze(), cmap='gray')  # squeeze para remover o canal de cor\n",
        "    plt.title(\"Máscara Gerada pelo Modelo\")\n",
        "    plt.axis('off')\n",
        "\n",
        "plt.tight_layout()\n",
        "plt.show()\n"
      ]
    },
    {
      "cell_type": "code",
      "execution_count": null,
      "metadata": {
        "colab": {
          "base_uri": "https://localhost:8080/",
          "height": 931
        },
        "id": "3E-mOKTEWw90",
        "outputId": "018017d2-8180-43ea-8019-650f17cfe764"
      },
      "outputs": [],
      "source": [
        "# Obter métricas de precisão e perda do histórico de treinamento\n",
        "acc = history.history['accuracy']\n",
        "val_acc = history.history['val_accuracy']\n",
        "loss = history.history['loss']\n",
        "val_loss = history.history['val_loss']\n",
        "\n",
        "# Número de épocas\n",
        "epochs = range(1, len(acc) + 1)\n",
        "\n",
        "# Plotar precisão do conjunto de treino e validação\n",
        "plt.plot(epochs, acc, 'r', label='Precisão do Conjunto de Treino')\n",
        "plt.plot(epochs, val_acc, 'b', label='Precisão do Conjunto de Validação')\n",
        "plt.title('Precisão do Conjunto de Treino e Validação')\n",
        "plt.xlabel('Épocas')\n",
        "plt.ylabel('Precisão')\n",
        "plt.legend()\n",
        "plt.show()\n",
        "\n",
        "# Plotar perda do conjunto de treino e validação\n",
        "plt.plot(epochs, loss, 'r', label='Perda do Conjunto de Treino')\n",
        "plt.plot(epochs, val_loss, 'b', label='Perda do Conjunto de Validação')\n",
        "plt.title('Perda do Conjunto de Treino e Validação')\n",
        "plt.xlabel('Épocas')\n",
        "plt.ylabel('Perda')\n",
        "plt.legend()\n",
        "plt.show()"
      ]
    },
    {
      "cell_type": "code",
      "execution_count": null,
      "metadata": {
        "colab": {
          "base_uri": "https://localhost:8080/"
        },
        "id": "0rPtQCnD710t",
        "outputId": "1ee17d15-5d2f-4ffe-e780-e77f7c0755c0"
      },
      "outputs": [],
      "source": [
        "# Lista para armazenar os scores de IoU\n",
        "iou_scores = []\n",
        "\n",
        "# Calcular IoUs e determinar predições corretas\n",
        "correct_predictions = 0\n",
        "iou_threshold = 0.5\n",
        "\n",
        "with tf.device('/gpu:0'):\n",
        "    for mask, result in zip(y_val, imgs_preditas):\n",
        "\n",
        "        intersection = np.logical_and(mask, result)\n",
        "        union = np.logical_or(mask, result)\n",
        "\n",
        "        iou_score = np.sum(intersection) / np.sum(union) if np.sum(union) != 0 else 0\n",
        "        iou_scores.append(iou_score)\n",
        "\n",
        "        # Verificar se a predição é considerada correta (IoU >= threshold)\n",
        "        if iou_score >= iou_threshold:\n",
        "            correct_predictions += 1\n",
        "\n",
        "        print('IoU é: ' + str(iou_score))\n",
        "\n",
        "# Calcular a média dos IoUs\n",
        "iou_mean = np.mean(iou_scores)\n",
        "print('Média dos IoU:', iou_mean)\n",
        "\n",
        "# Calcular Coverage Ratio (CovR)\n",
        "total_predictions = len(iou_scores)\n",
        "covr = correct_predictions / total_predictions if total_predictions > 0 else 0\n",
        "print('Coverage Ratio (CovR):', covr)"
      ]
    }
  ],
  "metadata": {
    "accelerator": "GPU",
    "colab": {
      "collapsed_sections": [
        "Tj46nKsJid3y"
      ],
      "gpuType": "T4",
      "provenance": []
    },
    "kernelspec": {
      "display_name": "Python 3",
      "name": "python3"
    },
    "language_info": {
      "name": "python"
    }
  },
  "nbformat": 4,
  "nbformat_minor": 0
}
