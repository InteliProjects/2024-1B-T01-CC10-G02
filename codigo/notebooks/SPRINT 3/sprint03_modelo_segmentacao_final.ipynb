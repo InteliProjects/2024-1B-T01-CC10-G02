{
  "nbformat": 4,
  "nbformat_minor": 0,
  "metadata": {
    "colab": {
      "provenance": []
    },
    "kernelspec": {
      "name": "python3",
      "display_name": "Python 3"
    },
    "language_info": {
      "name": "python"
    }
  },
  "cells": [
    {
      "cell_type": "code",
      "execution_count": null,
      "metadata": {
        "id": "zLBlQox3qqa6"
      },
      "outputs": [],
      "source": [
        "# Pelo fato do Colab exceder o tamanho aceitável no GitHub, segue o link para o acesso do código desenvolvido na Sprint 3.\n",
        "https://colab.research.google.com/drive/1Qat6BsHBXpMXKOVtvrLBIzFncyoP3SSO?usp=sharing"
      ]
    }
  ]
}