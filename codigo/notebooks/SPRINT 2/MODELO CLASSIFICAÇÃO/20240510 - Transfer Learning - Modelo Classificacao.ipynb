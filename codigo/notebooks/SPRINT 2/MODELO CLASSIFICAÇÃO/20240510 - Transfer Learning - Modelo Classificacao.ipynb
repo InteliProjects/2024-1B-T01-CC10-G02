{
  "cells": [
    {
      "cell_type": "markdown",
      "metadata": {
        "id": "0_0pbp8H8J_D"
      },
      "source": [
        "# Setup"
      ]
    },
    {
      "cell_type": "markdown",
      "metadata": {
        "id": "ZAnW_Z6LhI-3"
      },
      "source": [
        "## Imports"
      ]
    },
    {
      "cell_type": "code",
      "execution_count": null,
      "metadata": {
        "id": "93JwlWOJ--X9"
      },
      "outputs": [],
      "source": [
        "import tensorflow as tf\n",
        "tf.config.run_functions_eagerly(True)\n",
        "from tensorflow import keras\n",
        "import numpy as np\n",
        "import cv2\n",
        "import random\n",
        "import os\n",
        "import matplotlib.pyplot as plt\n",
        "from google.colab import drive\n",
        "import time"
      ]
    },
    {
      "cell_type": "markdown",
      "metadata": {
        "id": "Q62PZ79KhU60"
      },
      "source": [
        "## Conexão com o Drive"
      ]
    },
    {
      "cell_type": "code",
      "execution_count": null,
      "metadata": {
        "colab": {
          "base_uri": "https://localhost:8080/"
        },
        "id": "huco-1oZ9vey",
        "outputId": "5dee7cb2-83e7-4f72-a5f3-71f36dffa0d7"
      },
      "outputs": [],
      "source": [
        "drive.mount('/content/drive')"
      ]
    },
    {
      "cell_type": "markdown",
      "metadata": {
        "id": "BhmEXyOzh0Jr"
      },
      "source": [
        "## Conferência da existência de uma GPU\n",
        "\n",
        "É preciso a GPU para fazer o teste de performance do código com GPU e com CPU"
      ]
    },
    {
      "cell_type": "code",
      "execution_count": null,
      "metadata": {
        "colab": {
          "base_uri": "https://localhost:8080/"
        },
        "id": "4Z0YnMFBEVru",
        "outputId": "af4ed951-756a-48b2-c00b-5e94d60cd29e"
      },
      "outputs": [],
      "source": [
        "device_name = tf.test.gpu_device_name()\n",
        "if device_name != '/device:GPU:0':\n",
        "  raise SystemError('GPU device not found')\n",
        "print('Found GPU at: {}'.format(device_name))"
      ]
    },
    {
      "cell_type": "markdown",
      "metadata": {
        "id": "8Xm1meTVidOi"
      },
      "source": [
        "# Processamento das imagens e separação entre dados de teste e treino"
      ]
    },
    {
      "cell_type": "markdown",
      "metadata": {
        "id": "7kkYQaHRjhWm"
      },
      "source": [
        "## Funções de vetorização das imagens e labels"
      ]
    },
    {
      "cell_type": "code",
      "execution_count": null,
      "metadata": {
        "id": "GuaLcwTP-Una"
      },
      "outputs": [],
      "source": [
        "def vetorizar_imagens_talhao(caminho):\n",
        "    lista_imagens = []\n",
        "    labels = []\n",
        "    for pasta_imagem_grande in os.listdir(caminho):\n",
        "        caminho_pasta_imagem_grande = os.path.join(caminho, pasta_imagem_grande)\n",
        "        for pasta_imagem_cortada in os.listdir(caminho_pasta_imagem_grande):\n",
        "            caminho_pasta_imagem_cortada = os.path.join(caminho_pasta_imagem_grande, pasta_imagem_cortada)\n",
        "            caminho_imagem = os.path.join(caminho_pasta_imagem_cortada, os.listdir(caminho_pasta_imagem_cortada)[1])\n",
        "            img = cv2.imread(caminho_imagem)\n",
        "            lista_imagens.append(img)\n",
        "            labels.append(1)\n",
        "\n",
        "    random.shuffle(lista_imagens)\n",
        "\n",
        "    lista_imagens = lista_imagens[:200]\n",
        "    labels = labels[:200]\n",
        "\n",
        "    return np.array(lista_imagens), np.array(labels)\n",
        "\n",
        "def vetorizar_imagem_desmatamento(caminho_desmatamento):\n",
        "    lista_imagens = []\n",
        "    labels = []\n",
        "    for nome_imagem in os.listdir(caminho_desmatamento):\n",
        "        caminho_imagem = os.path.join(caminho_desmatamento, nome_imagem)\n",
        "        img = cv2.imread(caminho_imagem)\n",
        "        lista_imagens.append(img)\n",
        "        labels.append(0)\n",
        "    return np.array(lista_imagens), np.array(labels)"
      ]
    },
    {
      "cell_type": "markdown",
      "metadata": {
        "id": "Tso8WgaKa8D2"
      },
      "source": [
        "## Vetorização das imagens dos talhões"
      ]
    },
    {
      "cell_type": "code",
      "execution_count": null,
      "metadata": {
        "colab": {
          "base_uri": "https://localhost:8080/"
        },
        "id": "xbbfygg3ub15",
        "outputId": "aec19c72-c06a-484f-efaa-dbfa2752147a"
      },
      "outputs": [],
      "source": [
        "with tf.device('/gpu:0'):\n",
        "    caminho = '/content/drive/MyDrive/cropped_images'\n",
        "    imagens_numpy, labels_numpy = vetorizar_imagens_talhao(caminho)\n",
        "\n",
        "    print(imagens_numpy.shape)"
      ]
    },
    {
      "cell_type": "markdown",
      "metadata": {
        "id": "AUhBP9BMbF3Z"
      },
      "source": [
        "## Vetorização das imagens de desmatamento"
      ]
    },
    {
      "cell_type": "code",
      "execution_count": null,
      "metadata": {
        "colab": {
          "base_uri": "https://localhost:8080/"
        },
        "id": "k3gqnm-9sNlN",
        "outputId": "14bcf9de-4cd7-4170-878d-f1bd05d2149b"
      },
      "outputs": [],
      "source": [
        "with tf.device('/gpu:0'):\n",
        "    caminho_desmatamento = '/content/drive/MyDrive/cropped_desmatamento'\n",
        "    imagens_desmatamento, labels_desmatamento = vetorizar_imagem_desmatamento(caminho_desmatamento)\n",
        "\n",
        "    print(imagens_desmatamento.shape)"
      ]
    },
    {
      "cell_type": "markdown",
      "metadata": {
        "id": "lgyjiJdCbVdZ"
      },
      "source": [
        "## Combinação e normalização das imagens"
      ]
    },
    {
      "cell_type": "code",
      "execution_count": null,
      "metadata": {
        "colab": {
          "base_uri": "https://localhost:8080/"
        },
        "id": "_v_Io_EibOH8",
        "outputId": "06bbef51-e2ff-4840-d760-9f335e446e7c"
      },
      "outputs": [],
      "source": [
        "with tf.device('/gpu:0'):\n",
        "    combined_images = np.concatenate((imagens_numpy, imagens_desmatamento), axis=0)\n",
        "    combined_labels = np.concatenate((labels_numpy, labels_desmatamento), axis=0)\n",
        "\n",
        "    combined_images = combined_images / 255.0\n",
        "\n",
        "    print(\"Shape of the combined array:\", combined_images.shape)"
      ]
    },
    {
      "cell_type": "markdown",
      "metadata": {
        "id": "Ex_9qiqYjaLu"
      },
      "source": [
        "## Separação entre dados de teste e treino"
      ]
    },
    {
      "cell_type": "code",
      "execution_count": null,
      "metadata": {
        "id": "LpUMXbHOLhdy"
      },
      "outputs": [],
      "source": [
        "from sklearn.model_selection import train_test_split\n",
        "from keras.utils import to_categorical\n",
        "(trainX, testX, trainY, testY) = train_test_split(combined_images, combined_labels)\n",
        "trainY = to_categorical(trainY, 2)\n",
        "testY = to_categorical(testY, 2)"
      ]
    },
    {
      "cell_type": "markdown",
      "metadata": {
        "id": "9KESW55Pjmu7"
      },
      "source": [
        "# Modelo"
      ]
    },
    {
      "cell_type": "markdown",
      "metadata": {
        "id": "cEoAZW59jvzS"
      },
      "source": [
        "## Arquitetura do modelo\n",
        "\n",
        "Para o desenvolvimento do nosso modelo, adotamos duas principais referências: a arquitetura LeNet, inicialmente apresentada por Yann LeCun e seus colegas no artigo \"Gradient-Based Learning Applied to Document Recognition\" [1], e as diretrizes fornecidas em aula pelo Prof. Raphael durante nossas instruções.\n",
        "\n",
        "Nos inspiramos inicialmente na estrutura LeNet, especialmente nas duas primeiras camadas de convolução, onde mantivemos a mesma quantidade de neurônios, porém optamos por reduzir o tamanho do kernel para aumentar a precisão na detecção de bordas dos talhões de imagens.\n",
        "\n",
        "Além disso, seguindo as recomendações do Prof. Raphael durante a aula, decidimos incrementar o número de camadas de nossa rede com o objetivo facilitar a extração de características mais complexas das imagens, adaptando o modelo às necessidades específicas de nosso projeto.\n",
        "\n",
        "Em relação ao notebook usado na aula, nosso modelo preserva o mesmo número de camadas e operações de pooling, mas altera o número de neurônios e o tamanho das janelas de pooling para reduzir a quantidade de parâmetros treináveis, otimizando o desempenho computacional do modelo sem comprometer sua eficácia.\n",
        "\n",
        "[1] LeCun, Y., Bottou, L., Bengio, Y., & Haffner, P. (1998). Gradient-based learning applied to document recognition. Proceedings of the IEEE."
      ]
    },
    {
      "cell_type": "code",
      "execution_count": null,
      "metadata": {
        "colab": {
          "base_uri": "https://localhost:8080/"
        },
        "collapsed": true,
        "id": "2q-KvgV0_bel",
        "outputId": "fa093b95-6255-4905-d47c-3158e313c69f"
      },
      "outputs": [],
      "source": [
        "model = tf.keras.models.Sequential([\n",
        "    tf.keras.layers.Conv2D(6, (3, 3), activation='relu', input_shape=(200, 200, 3)),\n",
        "    tf.keras.layers.MaxPooling2D(2, 2),\n",
        "    tf.keras.layers.Conv2D(16, (3, 3), activation='relu'),\n",
        "    tf.keras.layers.MaxPooling2D(2, 2),\n",
        "    tf.keras.layers.Conv2D(16, (3, 3), activation='relu'),\n",
        "    tf.keras.layers.MaxPooling2D(2, 2),\n",
        "    tf.keras.layers.Conv2D(16, (3, 3), activation='relu'),\n",
        "    tf.keras.layers.MaxPooling2D(3,3),\n",
        "    tf.keras.layers.Conv2D(16, (3, 3), activation='relu'),\n",
        "    tf.keras.layers.MaxPooling2D(2,2),\n",
        "    tf.keras.layers.Flatten(),\n",
        "    # tf.keras.layers.Dense(200*200*3, activation='relu'),  # Número de unidades igual ao tamanho da imagem de saída\n",
        "    # tf.keras.layers.Reshape((200, 200, 3)),  # Redimensionar para o formato da imagem de saída\n",
        "    # tf.keras.layers.Activation('sigmoid')    # Ativação para valores de pixel entre 0 e 1\n",
        "    tf.keras.layers.Dense(128, activation='relu'),\n",
        "    tf.keras.layers.Dense(2, activation='softmax')\n",
        "])\n",
        "\n",
        "model.summary()\n"
      ]
    },
    {
      "cell_type": "markdown",
      "metadata": {
        "id": "f_x3yUtcjzjz"
      },
      "source": [
        "## Métricas, função de perda e otimizador do modelo"
      ]
    },
    {
      "cell_type": "code",
      "execution_count": null,
      "metadata": {
        "id": "I7d9rCuYi83w"
      },
      "outputs": [],
      "source": [
        "model.compile(\n",
        "    optimizer=keras.optimizers.Adam(learning_rate=0.001),\n",
        "    loss='binary_crossentropy',\n",
        "    metrics=['accuracy']\n",
        ")"
      ]
    },
    {
      "cell_type": "markdown",
      "metadata": {
        "id": "O4ShblUZlLUx"
      },
      "source": [
        "## Treinamento do modelo"
      ]
    },
    {
      "cell_type": "code",
      "execution_count": null,
      "metadata": {
        "colab": {
          "base_uri": "https://localhost:8080/"
        },
        "collapsed": true,
        "id": "R2tl7MvrM4Sp",
        "outputId": "97013342-e799-4f6a-d1f6-ad10425c49dd"
      },
      "outputs": [],
      "source": [
        "with tf.device('/gpu:0'):\n",
        "    H = model.fit(trainX, trainY, batch_size=64, epochs=20, verbose=2,\n",
        "            validation_data=(testX, testY))"
      ]
    },
    {
      "cell_type": "code",
      "execution_count": null,
      "metadata": {
        "colab": {
          "base_uri": "https://localhost:8080/",
          "height": 491
        },
        "id": "Kzj9wbzA65yj",
        "outputId": "11af99db-9a58-4f3d-8de1-4daf70778087"
      },
      "outputs": [],
      "source": [
        "acc = H.history['accuracy']\n",
        "val_acc = H.history['val_accuracy']\n",
        "loss = H.history['loss']\n",
        "val_loss = H.history['val_loss']\n",
        "\n",
        "epochs = range(len(acc))\n",
        "\n",
        "plt.plot(epochs, acc, 'r', label='Precisão do conjunto de Treino')\n",
        "plt.plot(epochs, val_acc, 'b', label='Precisão do conjunto de Validação')\n",
        "plt.title('Precisão dos conjuntos de Treino e Validação')\n",
        "plt.xlabel('Épocas')\n",
        "plt.ylabel('Precisão')\n",
        "plt.legend(loc=0)\n",
        "plt.figure()\n",
        "\n",
        "plt.show()"
      ]
    },
    {
      "cell_type": "markdown",
      "metadata": {
        "id": "Es2wgCcHlPau"
      },
      "source": [
        "## Teste do modelo"
      ]
    },
    {
      "cell_type": "code",
      "execution_count": null,
      "metadata": {
        "colab": {
          "base_uri": "https://localhost:8080/"
        },
        "id": "W817cpPuirXX",
        "outputId": "2452961c-07d9-463f-b8b9-8a0ba7132898"
      },
      "outputs": [],
      "source": [
        "predictions = model.predict(testX, batch_size=8, verbose=2)"
      ]
    },
    {
      "cell_type": "code",
      "execution_count": null,
      "metadata": {
        "colab": {
          "base_uri": "https://localhost:8080/"
        },
        "id": "6nm23_JajBK3",
        "outputId": "97cdc6ea-64ef-42bd-9fba-57443ddc2b12"
      },
      "outputs": [],
      "source": [
        "from sklearn.metrics import classification_report\n",
        "print(classification_report(testY.argmax(axis=1), predictions.argmax(axis=1),\n",
        "                              target_names=[str(label) for label in range(2)]))"
      ]
    },
    {
      "cell_type": "markdown",
      "metadata": {
        "id": "0ilc1lObuP8Y"
      },
      "source": [
        "## Teste entre GPU e CPU"
      ]
    },
    {
      "cell_type": "markdown",
      "metadata": {
        "id": "LJJFRlGhuUyZ"
      },
      "source": [
        "### Função para teste de processamento"
      ]
    },
    {
      "cell_type": "code",
      "execution_count": null,
      "metadata": {
        "collapsed": true,
        "id": "L8MkZuuy2_DE"
      },
      "outputs": [],
      "source": [
        "def train_and_infer(model, device, trainX, trainY, testX, testY):\n",
        "    with tf.device(device):\n",
        "        start_time = time.time()\n",
        "        history = model.fit(trainX, trainY, batch_size=64, epochs=20, verbose=2,\n",
        "                            validation_data=(testX, testY))\n",
        "        elapsed_time = time.time() - start_time\n",
        "        return elapsed_time"
      ]
    },
    {
      "cell_type": "markdown",
      "metadata": {
        "id": "MYxXazkLUOpM"
      },
      "source": [
        "### Realizando o teste"
      ]
    },
    {
      "cell_type": "code",
      "execution_count": null,
      "metadata": {
        "id": "RRpOixJEUOLy"
      },
      "outputs": [],
      "source": [
        "# Treinamento em GPU\n",
        "gpu_time = train_and_infer(model, '/gpu:0', trainX, trainY, testX, testY)\n",
        "\n",
        "# Treinamento em CPU\n",
        "cpu_time = train_and_infer(model, '/cpu:0', trainX, trainY, testX, testY)\n",
        "\n",
        "\n",
        "best_choice = 'GPU' if gpu_time < cpu_time else 'CPU'\n",
        "\n",
        "print(\n",
        "  f\"Tempo de treinamento de GPU: {gpu_time:.2f} seconds, \"\n",
        "  f\"Tempo de treinamento de CPU: {cpu_time:.2f} seconds, \"\n",
        "  f\"Melhor escolha: {best_choice}\"\n",
        ")"
      ]
    },
    {
      "cell_type": "markdown",
      "metadata": {
        "id": "t3-kBIfOiqmC"
      },
      "source": [
        "![image.png](data:image/png;base64,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)"
      ]
    },
    {
      "cell_type": "markdown",
      "metadata": {
        "id": "ocQruBU0mYRI"
      },
      "source": [
        "# Transfer Learning"
      ]
    },
    {
      "cell_type": "markdown",
      "metadata": {
        "id": "D3fs9aQVw4Tj"
      },
      "source": [
        "## Modelos"
      ]
    },
    {
      "cell_type": "markdown",
      "metadata": {
        "id": "VukTfIVarirT"
      },
      "source": [
        "### Inception v3 Model\n"
      ]
    },
    {
      "cell_type": "markdown",
      "metadata": {
        "id": "H3dc-WcMLyZ7"
      },
      "source": [
        "O Inception-v3, apresentado no artigo \"Rethinking the Inception Architecture for Computer Vision\" [1], é uma arquitetura de rede neural convolucional (CNN) projetada com foco na eficiência computacional e no alto desempenho. Desenvolvido com base em uma reavaliação profunda da arquitetura Inception, o modelo introduz várias inovações para melhorar a capacidade de reconhecimento de imagens.\n",
        "\n",
        "Uma das características principais do Inception-v3 são os módulos Inception, que consistem em blocos de construção flexíveis compostos por várias camadas de convolução paralelas de diferentes tamanhos de filtro. Esses módulos são projetados para capturar informações em várias escalas e resoluções, permitindo que o modelo aprenda representações mais ricas e complexas das imagens, como discutido no artigo.\n",
        "\n",
        "O modelo alcançou resultados impressionantes em várias métricas de avaliação. Por exemplo, o Inception-v3 alcançou uma taxa de erro de 21.2% para o top-1 e 5.6% para o top-5 na avaliação de uma única imagem no conjunto de dados de classificação ILSVRC 2012. Esses resultados representam uma redução significativa em relação aos modelos anteriores, como o AlexNet, que obteve uma taxa de erro de aproximadamente 15.3% para o top-5 na mesma avaliação.\n",
        "\n",
        "\n",
        "**Referências:**\n",
        "\n",
        "[1] Christian Szegedy, Vincent Vanhoucke, Sergey Ioffe, Jonathon Shlens, Zbigniew Wojna, \"Rethinking the Inception Architecture for Computer Vision\", 2015. https://arxiv.org/abs/1512.00567\n"
      ]
    },
    {
      "cell_type": "code",
      "execution_count": null,
      "metadata": {
        "id": "5oZjyIKf1Aaw"
      },
      "outputs": [],
      "source": [
        "inception_weights = '/tmp/inception_v3_weights_tf_dim_ordering_tf_kernels_notop.h5'\n",
        "if not os.path.exists(inception_weights):\n",
        "    !wget --no-check-certificate \\\n",
        "        https://storage.googleapis.com/mledu-datasets/inception_v3_weights_tf_dim_ordering_tf_kernels_notop.h5 \\\n",
        "        -O {inception_weights}"
      ]
    },
    {
      "cell_type": "markdown",
      "metadata": {
        "id": "osU7p-2twZdv"
      },
      "source": [
        "### Resnet"
      ]
    },
    {
      "cell_type": "markdown",
      "metadata": {
        "id": "cr88XAc2Qqj5"
      },
      "source": [
        "A ResNet, ou Rede Residual, foi introduzida no artigo \"Deep Residual Learning for Image Recognition\" [1] e é uma CNN projetada para combater os desafios do treinamento de redes neurais profundas. Seu objetivo era superar a diminuição de desempenho causada pelo problema do gradiente vanishing (desaparecimento do gradiente) ao mesmo tempo em que permitia a construção de redes com centenas de camadas.\n",
        "\n",
        "A inovação central da ResNet é o bloco residual. Esse bloco consiste em caminhos paralelos que realizam operações de convolução, mas com a adição de conexões de atalho (skip connections). Essas conexões permitem que os gradientes sejam propagados diretamente, resultando em uma rede mais fácil de treinar e evitando a degradação da performance.\n",
        "\n",
        "No desafio de classificação de imagem ILSVRC 2015 ele alcançou uma taxa de erro top-5 de 3.57% e além disso a arquitetura mostrou-se adaptável e foi utilizada como base para outras arquiteturas mais avançadas, provando sua relevância e flexibilidade no campo da visão computacional.\n",
        "\n",
        "**Referências**\n",
        "\n",
        "[1] He, K., Zhang, X., Ren, S., & Sun, J. (2016). Deep residual learning for image recognition. In Proceedings of the IEEE conference on computer vision and pattern recognition."
      ]
    },
    {
      "cell_type": "code",
      "execution_count": null,
      "metadata": {
        "id": "z0SdP2nlv6jI"
      },
      "outputs": [],
      "source": [
        "resnet_weights = '/tmp/resnet50_weights_tf_dim_ordering_tf_kernels_notop.h5'\n",
        "if not os.path.exists(resnet_weights):\n",
        "    !wget --no-check-certificate \\\n",
        "        https://storage.googleapis.com/tensorflow/keras-applications/resnet/resnet50_weights_tf_dim_ordering_tf_kernels_notop.h5 \\\n",
        "        -O {resnet_weights}"
      ]
    },
    {
      "cell_type": "markdown",
      "metadata": {
        "id": "DHGo-jE7wtvE"
      },
      "source": [
        "### EfficientNet"
      ]
    },
    {
      "cell_type": "markdown",
      "metadata": {
        "id": "syZOCp9ERELn"
      },
      "source": [
        "\n",
        "A EfficientNet, introduzida no artigo \"EfficientNet: Rethinking Model Scaling for Convolutional Neural Networks\" [1], é uma CNN feita para otimizar o tradeoff entre precisão e eficiência computacional, introduzindo o método de escalonamento composto para realizar isto.\n",
        "\n",
        "O conceito por trás da EfficientNet é que simplesmente aumentar a profundidade ou a largura da rede nem sempre resulta em melhorias de desempenho, logo o escalonamento composto permite que a rede seja adaptada igualitariamente, ajustando as três dimensões de forma balanceada com base em um coeficiente fixo. Visando utilizar os recursos computacionais de forma mais eficiente e permitindo um melhor desempenho sem aumentar excessivamente os requisitos computacionais.\n",
        "\n",
        "A rede demonstrou uma eficácia notável em benchmarks como o ImageNet, alcançando uma taxa de erro top-1 de apenas 15.8% e top-5 de 4.5%, enquanto utilizava significativamente menos parâmetros e FLOPS (operações de ponto flutuante por segundo) em comparação com outras arquiteturas.\n",
        "\n",
        "[1] Tan, M., & Le, Q. V. (2019). EfficientNet: Rethinking Model Scaling for Convolutional Neural Networks. In Proceedings of the International Conference on Machine Learning (ICML)."
      ]
    },
    {
      "cell_type": "markdown",
      "metadata": {
        "id": "QjuzYQIql4FC"
      },
      "source": [
        "## Arquitetura dos Modelos"
      ]
    },
    {
      "cell_type": "markdown",
      "metadata": {
        "id": "hFxNuuM4xI5z"
      },
      "source": [
        "### Imports necessários"
      ]
    },
    {
      "cell_type": "code",
      "execution_count": null,
      "metadata": {
        "id": "s772EfqUmde5"
      },
      "outputs": [],
      "source": [
        "import os\n",
        "from tensorflow.keras import layers, Model, optimizers\n",
        "from tensorflow.keras.applications import InceptionV3, EfficientNetB0, ResNet50"
      ]
    },
    {
      "cell_type": "markdown",
      "metadata": {
        "id": "At9tcLixxRga"
      },
      "source": [
        "### Carregar os pesos"
      ]
    },
    {
      "cell_type": "code",
      "execution_count": null,
      "metadata": {
        "id": "z8vKGGsQxQzT"
      },
      "outputs": [],
      "source": [
        "def load_weights(model_name):\n",
        "    if model_name == 'inception':\n",
        "        weights_file = inception_weights\n",
        "    elif model_name == 'resnet50':\n",
        "        weights_file = resnet_weights\n",
        "    else:\n",
        "        weights_file = None\n",
        "    return weights_file"
      ]
    },
    {
      "cell_type": "markdown",
      "metadata": {
        "id": "CfxX7B8SxVtB"
      },
      "source": [
        "### Criar modelo pré-treinado"
      ]
    },
    {
      "cell_type": "code",
      "execution_count": null,
      "metadata": {
        "id": "vRnCWlMDxcdo"
      },
      "outputs": [],
      "source": [
        "# Definindo a função para criar o modelo pré-treinado\n",
        "def create_pre_trained_model(model_name='inception'):\n",
        "    if model_name == 'inception':\n",
        "        weights_file = load_weights(model_name)\n",
        "        pre_trained_model = InceptionV3(input_shape=(200, 200, 3), include_top=False, weights=None)\n",
        "        pre_trained_model.load_weights(weights_file)\n",
        "        last_layer_name = 'mixed2'\n",
        "    elif model_name == 'efficientnetb0':\n",
        "        pre_trained_model = EfficientNetB0(input_shape=(200, 200, 3), include_top=False, weights='imagenet')\n",
        "        last_layer_name = 'block7a_project_bn'\n",
        "    elif model_name == 'resnet50':\n",
        "        weights_file = load_weights(model_name)\n",
        "        pre_trained_model = ResNet50(input_shape=(200, 200, 3), include_top=False, weights=None)\n",
        "        pre_trained_model.load_weights(weights_file)\n",
        "        last_layer_name = 'conv4_block6_out'\n",
        "    else:\n",
        "        raise ValueError(\"Model name should be 'inception', 'efficientnetb0', or 'resnet50'\")\n",
        "\n",
        "    # Congelando os pesos do modelo pré-treinado\n",
        "    for layer in pre_trained_model.layers:\n",
        "        layer.trainable = False\n",
        "\n",
        "    return pre_trained_model, last_layer_name"
      ]
    },
    {
      "cell_type": "code",
      "execution_count": null,
      "metadata": {
        "colab": {
          "base_uri": "https://localhost:8080/"
        },
        "collapsed": true,
        "id": "T5kaNX9-3Yao",
        "outputId": "7735f50d-dee2-47ce-fd04-a7b65275fcc8"
      },
      "outputs": [],
      "source": [
        "# Criando o modelo pré-treinado (por padrão, será utilizado o modelo Inception) e exibindo um resumo\n",
        "pre_trained_model, last_layer_name = create_pre_trained_model()\n",
        "pre_trained_model.summary()"
      ]
    },
    {
      "cell_type": "code",
      "execution_count": null,
      "metadata": {
        "colab": {
          "base_uri": "https://localhost:8080/"
        },
        "id": "oVA4n1_we7k7",
        "outputId": "e59348e3-4729-45d7-e96c-4d3b8f94ee1f"
      },
      "outputs": [],
      "source": [
        "total_params = pre_trained_model.count_params()\n",
        "num_trainable_params = sum([w.shape.num_elements() for w in pre_trained_model.trainable_weights])\n",
        "\n",
        "print(f\"Total de parâmetros no modelo é de {total_params:,}.\")\n",
        "print(f\"Total de parâmetros que podem ser treinados no modelo são {num_trainable_params:,}.\")"
      ]
    },
    {
      "cell_type": "code",
      "execution_count": null,
      "metadata": {
        "id": "vFgy9RmWym3X"
      },
      "outputs": [],
      "source": [
        "# Definindo a função para obter a saída da última camada do modelo pré-treinado (por padrão, será utilizado a camada do modelo Inception)\n",
        "def output_of_last_layer(pre_trained_model, last_layer_name='mixed2'):\n",
        "    last_desired_layer = pre_trained_model.get_layer(last_layer_name)\n",
        "    print('dimensão da última camada selecionada: ', last_desired_layer.output_shape)\n",
        "    last_output = last_desired_layer.output\n",
        "    print('dimensão da camada do modelo: ', last_output)\n",
        "    return last_output"
      ]
    },
    {
      "cell_type": "code",
      "execution_count": null,
      "metadata": {
        "colab": {
          "base_uri": "https://localhost:8080/"
        },
        "id": "tqsJM8Eh3mBD",
        "outputId": "4a3eb66a-3e2e-4603-91cb-123e8e583b42"
      },
      "outputs": [],
      "source": [
        "# Obtendo a saída da última camada do modelo pré-treinado\n",
        "last_output = output_of_last_layer(pre_trained_model)"
      ]
    },
    {
      "cell_type": "code",
      "execution_count": null,
      "metadata": {
        "id": "pD1ljbTU3rfR"
      },
      "outputs": [],
      "source": [
        "# Definindo a função para criar o modelo final\n",
        "def create_final_model(pre_trained_model, last_output):\n",
        "  x = layers.Flatten()(last_output)\n",
        "  x = layers.Dense(32, activation='relu')(x)\n",
        "  x = layers.Dense(64, activation='relu')(x)\n",
        "  x = layers.Dense(128, activation='relu')(x)\n",
        "  x = layers.Dropout(0.2)(x)\n",
        "\n",
        "  x = layers.Dense  (2, activation='softmax')(x)\n",
        "\n",
        "  # Criando o modelo final\n",
        "  model = Model(pre_trained_model.input, x)\n",
        "  model.compile(optimizer = keras.optimizers.Adam(learning_rate=0.001),\n",
        "                loss = 'binary_crossentropy',\n",
        "                metrics = ['accuracy'])\n",
        "  return model"
      ]
    },
    {
      "cell_type": "code",
      "execution_count": null,
      "metadata": {
        "colab": {
          "base_uri": "https://localhost:8080/"
        },
        "id": "sZwm3JoofE9s",
        "outputId": "1137a683-4a88-4b64-bf6c-08210e003fe7"
      },
      "outputs": [],
      "source": [
        "model = create_final_model(pre_trained_model, last_output)\n",
        "\n",
        "total_params = model.count_params()\n",
        "num_trainable_params = sum([w.shape.num_elements() for w in model.trainable_weights])\n",
        "\n",
        "print(f\"Total de parâmetros no modelo é de {total_params:,}.\")\n",
        "print(f\"Total de parâmetros que podem ser treinados no modelo são {num_trainable_params:,}.\")"
      ]
    },
    {
      "cell_type": "code",
      "execution_count": null,
      "metadata": {
        "colab": {
          "base_uri": "https://localhost:8080/"
        },
        "collapsed": true,
        "id": "Z_kSIpj03uPL",
        "outputId": "b378a03a-0633-4c4f-9345-08cbf9ec7d63"
      },
      "outputs": [],
      "source": [
        "# Criando o modelo final\n",
        "model = create_final_model(pre_trained_model, last_output)\n",
        "model.summary()"
      ]
    },
    {
      "cell_type": "code",
      "execution_count": null,
      "metadata": {
        "id": "5Bu3FptX1dVP"
      },
      "outputs": [],
      "source": [
        "# Treinando o modelo\n",
        "H = model.fit(trainX, trainY, batch_size=64, epochs=20, verbose=2,\n",
        "            validation_data=(testX, testY))"
      ]
    },
    {
      "cell_type": "code",
      "execution_count": null,
      "metadata": {
        "id": "pY9XMQhG1gsR"
      },
      "outputs": [],
      "source": [
        "# Extraindo métricas de treinamento\n",
        "acc = H.history['accuracy']\n",
        "val_acc = H.history['val_accuracy']\n",
        "loss = H.history['loss']\n",
        "val_loss = H.history['val_loss']\n",
        "\n",
        "# Plotando as métricas de treinamento\n",
        "epochs = range(len(acc))\n",
        "\n",
        "plt.plot(epochs, acc, 'r', label='Precisão do conjunto de Treino')\n",
        "plt.plot(epochs, val_acc, 'b', label='Precisão do conjunto de Validação')\n",
        "plt.title('Precisão dos conjuntos de Treino e Validação InceptionV3')\n",
        "plt.xlabel('Épocas')\n",
        "plt.ylabel('Precisão')\n",
        "plt.legend(loc=0)\n",
        "plt.figure()\n",
        "\n",
        "plt.show()"
      ]
    },
    {
      "cell_type": "markdown",
      "metadata": {
        "id": "yV-mImEBl00c"
      },
      "source": [
        "## Comparação de Modelos"
      ]
    },
    {
      "cell_type": "markdown",
      "metadata": {
        "id": "QKsWPBP30qL8"
      },
      "source": [
        "### Treinar todos os modelos e salvar suas métricas"
      ]
    },
    {
      "cell_type": "code",
      "execution_count": null,
      "metadata": {
        "colab": {
          "base_uri": "https://localhost:8080/"
        },
        "collapsed": true,
        "id": "HrEc5NBkmlgH",
        "outputId": "5ee264a4-b2f2-4c8d-f636-928ccc1600e9"
      },
      "outputs": [],
      "source": [
        "# Nome dos modelos disponíveis\n",
        "model_names = ['inception', 'efficientnetb0', 'resnet50']\n",
        "\n",
        "# Dicionário de resultados\n",
        "training_histories = {}\n",
        "\n",
        "# Iterar todos os modelos disponíveis e salvar seus resultados\n",
        "for model_name in model_names:\n",
        "    pre_trained_model, last_layer_name = create_pre_trained_model(model_name)\n",
        "    last_output = output_of_last_layer(pre_trained_model, last_layer_name)\n",
        "    model = create_final_model(pre_trained_model, last_output)\n",
        "    print(f'{model_name}: modelo criado')\n",
        "\n",
        "    history = model.fit(trainX, trainY, batch_size=64, epochs=20, verbose=2,\n",
        "                        validation_data=(testX, testY))\n",
        "    training_histories[model_name] = history\n",
        "    print(f'{model_name}: métricas salvas com sucesso.')\n"
      ]
    },
    {
      "cell_type": "markdown",
      "metadata": {
        "id": "Z9PI8xB61DSY"
      },
      "source": [
        "### Comparação de acurácia"
      ]
    },
    {
      "cell_type": "code",
      "execution_count": null,
      "metadata": {
        "colab": {
          "base_uri": "https://localhost:8080/",
          "height": 607
        },
        "id": "7SFdzMhvphsO",
        "outputId": "1c820fa5-67dd-4f97-e031-2fa9945e909c"
      },
      "outputs": [],
      "source": [
        "# Inicializar os gráficos lado-a-lado para facilitar comparação\n",
        "fig, axs = plt.subplots(1, len(training_histories), figsize=(18, 6))\n",
        "\n",
        "# Iterar os dados para criar os gráficos\n",
        "for idx, (model_name, history) in enumerate(training_histories.items()):\n",
        "    acc = history.history['accuracy']\n",
        "    val_acc = history.history['val_accuracy']\n",
        "    epochs = range(len(acc))\n",
        "\n",
        "    axs[idx].plot(epochs, acc, 'r', label='Precisão do conjunto de Treino')\n",
        "    axs[idx].plot(epochs, val_acc, 'b', label='Precisão do conjunto de Validação')\n",
        "    axs[idx].set_title(f'Precisão dos conjuntos de Treino e Validação de \"{model_name}\"')\n",
        "    axs[idx].set_xlabel('Épocas')\n",
        "    axs[idx].set_ylabel('Precisão')\n",
        "    axs[idx].grid(True)\n",
        "\n",
        "plt.tight_layout()\n",
        "plt.show()\n"
      ]
    },
    {
      "cell_type": "markdown",
      "metadata": {
        "id": "ssmjld4o1G_4"
      },
      "source": [
        "### Discussão e escolha de modelo definitivo"
      ]
    },
    {
      "cell_type": "markdown",
      "metadata": {
        "id": "zK_i1lqtYsch"
      },
      "source": [
        "![image.png](data:image/png;base64,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)\n",
        "\n",
        "\n",
        "Analisando os resultados, é possível afirmar que o melhor modelo é o Inception V3\n",
        "\n",
        "No gráfico da Inception V3 é possível notar um aumento acelerado na precisão nos estágios iniciais, que estabiliza acima dos 90%. Este comportamento indica uma convergência eficiente, sugerindo que a rede tem habilidade para assimilar características complexas dos dados sem sofrer de sobreajuste. A proximidade entre as curvas de treino e validação reforça sua capacidade de generalização robusta.\n",
        "\n",
        "Analisando os outros modelos, vemos que a EfficientNetB0 apresenta a mais baixa precisão, levemente ultrapassando 52%, e mesmo que a ResNet50 mostre uma estabilidade superior á essa, ela ainda oscila em torno de 75% de precisão, não alcançando os patamares observados no Inception V3.\n",
        "\n",
        "Logo, podemos afirmar que o melhor modelo pré-treinado para nossos dados é o Inception V3"
      ]
    },
    {
      "cell_type": "markdown",
      "metadata": {
        "id": "Nk0mWNZMTysQ"
      },
      "source": [
        "## Teste entre GPU e CPU"
      ]
    },
    {
      "cell_type": "markdown",
      "metadata": {
        "id": "AD9jtOIO57G1"
      },
      "source": [
        "### Realizando o teste"
      ]
    },
    {
      "cell_type": "code",
      "execution_count": null,
      "metadata": {
        "colab": {
          "base_uri": "https://localhost:8080/"
        },
        "id": "R5xB0UiZ56mu",
        "outputId": "d1cfef1d-04d3-498b-9fee-d11e41e30a0e"
      },
      "outputs": [],
      "source": [
        "performance_results = {}\n",
        "\n",
        "# Testando todos os modelos tanto em CPU quanto em GPU\n",
        "for model_name in model_names:\n",
        "    print(f\"Testando {model_name}\")\n",
        "    pre_trained_model, last_layer_name = create_pre_trained_model(model_name)\n",
        "    last_output = output_of_last_layer(pre_trained_model, last_layer_name)\n",
        "    model = create_final_model(pre_trained_model, last_output)\n",
        "\n",
        "    # Treinamento em GPU\n",
        "    gpu_time = train_and_infer(model, '/gpu:0', trainX, trainY, testX, testY)\n",
        "    # Treinamento em CPU\n",
        "    cpu_time = train_and_infer(model, '/cpu:0', trainX, trainY, testX, testY)\n",
        "\n",
        "    # Salvar resultados\n",
        "    performance_results[model_name] = {\n",
        "        'gpu_time': gpu_time,\n",
        "        'cpu_time': cpu_time\n",
        "    }"
      ]
    },
    {
      "cell_type": "code",
      "execution_count": null,
      "metadata": {
        "colab": {
          "base_uri": "https://localhost:8080/",
          "height": 339
        },
        "collapsed": true,
        "id": "84Ef8VfguS3t",
        "outputId": "38982006-996b-4cbe-a1bc-eacbfc975388"
      },
      "outputs": [],
      "source": [
        "# Comparar resultados e devolver a melhor escolha para o treinamento.\n",
        "for model_name, times in performance_results.items():\n",
        "    gpu_time = times['gpu_time']\n",
        "    cpu_time = times['cpu_time']\n",
        "    best_choice = 'GPU' if gpu_time < cpu_time else 'CPU'\n",
        "\n",
        "    print(\n",
        "        f\"{model_name.capitalize()}: \"\n",
        "        f\"Tempo de treinamento de GPU: {gpu_time:.2f} seconds, \"\n",
        "        f\"Tempo de treinamento de CPU: {cpu_time:.2f} seconds, \"\n",
        "        f\"Melhor escolha: {best_choice}\"\n",
        "    )"
      ]
    },
    {
      "cell_type": "markdown",
      "metadata": {
        "id": "4XAYzlCvhF0T"
      },
      "source": [
        "![image.png](data:image/png;base64,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)"
      ]
    }
  ],
  "metadata": {
    "accelerator": "GPU",
    "colab": {
      "collapsed_sections": [
        "BhmEXyOzh0Jr",
        "Es2wgCcHlPau",
        "VukTfIVarirT",
        "osU7p-2twZdv",
        "DHGo-jE7wtvE"
      ],
      "gpuType": "T4",
      "provenance": [],
      "toc_visible": true
    },
    "kernelspec": {
      "display_name": "Python 3",
      "name": "python3"
    },
    "language_info": {
      "name": "python",
      "version": "3.11.3"
    }
  },
  "nbformat": 4,
  "nbformat_minor": 0
}
