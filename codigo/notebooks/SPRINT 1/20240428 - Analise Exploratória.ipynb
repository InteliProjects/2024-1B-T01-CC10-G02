{
  "cells": [
    {
      "cell_type": "markdown",
      "metadata": {
        "id": "cQl90jW20q1D"
      },
      "source": [
        "# Obter dados no drive"
      ]
    },
    {
      "cell_type": "code",
      "execution_count": null,
      "metadata": {
        "colab": {
          "base_uri": "https://localhost:8080/"
        },
        "id": "M97Z2Z1BTDYl",
        "outputId": "18f982c2-c8fa-42c8-bdee-b4c0bfefb489"
      },
      "outputs": [],
      "source": [
        "!pip install pyxlsb"
      ]
    },
    {
      "cell_type": "code",
      "execution_count": null,
      "metadata": {
        "id": "ehPwUJLzSsLC"
      },
      "outputs": [],
      "source": [
        "from google.colab import drive\n",
        "import pandas as pd\n",
        "from pyxlsb import open_workbook\n",
        "import random\n",
        "\n",
        "import zipfile\n",
        "import os\n",
        "\n",
        "\n",
        "from PIL import Image, ImageDraw\n",
        "import matplotlib.pyplot as plt"
      ]
    },
    {
      "cell_type": "code",
      "execution_count": null,
      "metadata": {
        "colab": {
          "base_uri": "https://localhost:8080/"
        },
        "id": "ibpCXTgmS_Hi",
        "outputId": "0ca57baa-09f1-4d59-9644-ae36c64b3e00"
      },
      "outputs": [],
      "source": [
        "drive.mount('/content/drive')"
      ]
    },
    {
      "cell_type": "markdown",
      "metadata": {
        "id": "v-chlAypTE6e"
      },
      "source": [
        "## Descompactar Arquivos"
      ]
    },
    {
      "cell_type": "code",
      "execution_count": null,
      "metadata": {
        "id": "1f1hCreQTgmO"
      },
      "outputs": [],
      "source": [
        "# Extrai o conteúdo do zip para o diretório definido\n",
        "\n",
        "dir_path = \"/content/drive/Shared drives/Grupo T de Tech/Data/\"\n",
        "\n",
        "zip_path = (dir_path + \"dataset_inteli.zip\")\n",
        "\n",
        "if(False): # alterar AQUI caso queira que zip seja extraído\n",
        "  with zipfile.ZipFile(zip_path, 'r') as zip_ref:\n",
        "      zip_ref.extractall(dir_path)\n",
        "      print(\"Arquivo ZIP descompactado com sucesso.\")"
      ]
    },
    {
      "cell_type": "markdown",
      "metadata": {
        "id": "fMOsDIHZRpiX"
      },
      "source": [
        "## Remover Arquivos Desnecessários"
      ]
    },
    {
      "cell_type": "code",
      "execution_count": null,
      "metadata": {
        "colab": {
          "base_uri": "https://localhost:8080/"
        },
        "id": "czBVsKUsRCli",
        "outputId": "ecaa4a8d-bf30-4efe-9375-1b924151b816"
      },
      "outputs": [],
      "source": [
        "import os\n",
        "import shutil\n",
        "\n",
        "macosx_dir = os.path.join(dir_path + '__MACOSX')\n",
        "\n",
        "if os.path.exists(macosx_dir):\n",
        "    shutil.rmtree(macosx_dir)\n",
        "    print(f\"O diretório {macosx_dir} foi removido com sucesso.\")\n",
        "else:\n",
        "    print(f\"O diretório {macosx_dir} não existe.\")\n"
      ]
    },
    {
      "cell_type": "code",
      "execution_count": null,
      "metadata": {
        "colab": {
          "base_uri": "https://localhost:8080/"
        },
        "id": "0mMglyCyWQyz",
        "outputId": "e8626e17-0f85-4fb9-ed91-3783be44d6c2"
      },
      "outputs": [],
      "source": [
        "os.listdir(dir_path)"
      ]
    },
    {
      "cell_type": "markdown",
      "metadata": {
        "id": "ve4onSZbqvTr"
      },
      "source": [
        "# Análise exploratória"
      ]
    },
    {
      "cell_type": "markdown",
      "metadata": {
        "id": "OzXixi5q8A9E"
      },
      "source": [
        "## Análise dos talhões do sul\n",
        "\n",
        "Imagens contidas no diretório '/masks'"
      ]
    },
    {
      "cell_type": "code",
      "execution_count": null,
      "metadata": {
        "colab": {
          "base_uri": "https://localhost:8080/"
        },
        "id": "nLyXy20k8TdN",
        "outputId": "ac0a6c64-0dc2-4f30-84a4-bf9ac32e371b"
      },
      "outputs": [],
      "source": [
        "masks_path = (dir_path + 'dataset_inteli/masks/')\n",
        "\n",
        "images = os.listdir(masks_path)\n",
        "\n",
        "for image_name in images:\n",
        "  image_path = (masks_path + image_name)\n",
        "  image = Image.open(image_path)\n",
        "  print(\"{}: {}\".format(image_name, image.size))\n",
        "\n",
        "print(\"{} imagens\".format(len(images)))"
      ]
    },
    {
      "cell_type": "markdown",
      "metadata": {
        "id": "xvUOtepcrPUk"
      },
      "source": [
        "## Imagens extras adicionadas ao banco de dados\n",
        "\n",
        "A fim de termos uma quantidade de dados mais extensa e, assim, treinarmos o modelo de forma mais eficiente e assertiva de acordo com os requisitos do projeto, foram adicionadas 2 novas imagens aos dados disponibilizados pelo parceiro, sendo elas de 1200x1200 pixels, uma da **região sul do Brasil**, e outra da **região próxima à Córdova na Argentina**, ambas considerando o propósito de identificar talhões irregulares.\n",
        "<br>A escolha da imagem da região sul se deu pelo fato de que o objetivo final do modelo é a segmentação de talhões em imagens de satélite de terrenos agrícolas especificamente da região sul do país e, tendo em vista que essa região apresenta características específicas, como relevo irregular, ela é a mais eficiente para treinarmos o modelo, para que ele possa retornar uma boa segmentação do terreno mesmo com diferentes padrões de terreno, que predominam na região sul.\n",
        "\n",
        "<br>Já na imagem da Argentina, foi escolhida uma área em que há uma grande concentração de plantio de soja, que, embora apresente talhões majoritariamente regulares, essa imagem será um bom complemento à anterior na medida em que estimulará o modelo a reconhecer terrenos circulares, para que, assim, seja um complemento da região sul do Brasil, mas que ao mesmo tempo diminua um possível viés nos dados que podería existir caso escolhessemos somente imagens do sul do Brasil. Em suma, o reconhecimento de terrenos circulares pode ajudar a reconhecer terrenos irregulares, sem um padrão claro, então estaremos fornecendo dados com diferentes padrões, assim como existirão na região sul, local esse que nosso modelo está sendo desenvolvido para atuar.\n",
        "\n",
        "<br>Sendo assim, a análise inicial do grupo leva em consideração o entendimento que o modelo pode ser melhor treinado com dados de talhões regulares, irregulares e circulares, para que o maior número de padrões distintos sejam reconhecidos e, assim, possamos lidar melhor com a incerteza de terrenos do sul do Brasil. Tal hipótese será colocada a prova com o treinamento do modelo, mas, inicialmente, pode-se evidenciar que, de fato, os terrenos do sul são irregulares, para embasar o posicionamento adotado, nas imagens a seguir:"
      ]
    },
    {
      "cell_type": "markdown",
      "metadata": {
        "id": "7LMzdBnH9mau"
      },
      "source": [
        "### Segmentações"
      ]
    },
    {
      "cell_type": "markdown",
      "metadata": {
        "id": "lWNWccPa-3tB"
      },
      "source": [
        "#### 1415\n",
        "\n",
        "Ao abrir o arquivo.geojson, vê-se que a imagem foi tirada de um terreno próximo à Arapoti, no Paraná"
      ]
    },
    {
      "cell_type": "code",
      "execution_count": null,
      "metadata": {
        "colab": {
          "base_uri": "https://localhost:8080/",
          "height": 1000
        },
        "id": "Hfvf3C8V9Hmg",
        "outputId": "7435b969-b1e2-4d61-b983-85cacf8a3eb6"
      },
      "outputs": [],
      "source": [
        "Image.open(masks_path + '1415.png')"
      ]
    },
    {
      "cell_type": "markdown",
      "metadata": {
        "id": "5jJKeRU4_MOC"
      },
      "source": [
        "#### 591\n",
        "\n",
        "Ao abrir o arquivo.geojson, vê-se que a imagem foi tirada de um terreno próximo à Alegrete, no Rio Grande Do Sul"
      ]
    },
    {
      "cell_type": "code",
      "execution_count": null,
      "metadata": {
        "colab": {
          "base_uri": "https://localhost:8080/",
          "height": 1000
        },
        "id": "lZq2fG8E9ekU",
        "outputId": "a186bb11-e835-49aa-c833-9d969a74f5d9"
      },
      "outputs": [],
      "source": [
        "Image.open(masks_path + '591.png')"
      ]
    },
    {
      "cell_type": "markdown",
      "metadata": {
        "id": "RZLxRT2F_O_W"
      },
      "source": [
        "#### 770\n",
        "\n",
        "Ao abrir o arquivo.geojson, vê-se que a imagem foi tirada de um terreno de próximo à Guarapuava, no Paraná"
      ]
    },
    {
      "cell_type": "code",
      "execution_count": null,
      "metadata": {
        "colab": {
          "base_uri": "https://localhost:8080/",
          "height": 1000
        },
        "id": "6Lmkxfpd9g33",
        "outputId": "5aadf2ad-cee6-43f4-d438-d65cf7ce9428"
      },
      "outputs": [],
      "source": [
        "Image.open(masks_path + '770.png')"
      ]
    },
    {
      "cell_type": "markdown",
      "metadata": {
        "id": "80mcnaiH9r7s"
      },
      "source": [
        "#### Conclusão\n",
        "\n",
        "Com base nas imagens da pasta '/masks', as quais contém segmentações dos terrenos do sul, pode-se concluir que há uma predominânica de talhões irregulares nos terrenos do sul do Brasil"
      ]
    },
    {
      "cell_type": "markdown",
      "metadata": {
        "id": "gGvckL8qq_I7"
      },
      "source": [
        "# Propriedades das imagens\n"
      ]
    },
    {
      "cell_type": "markdown",
      "metadata": {
        "id": "MQecNKNmhwZZ"
      },
      "source": [
        "## Dimensão das imagens"
      ]
    },
    {
      "cell_type": "markdown",
      "metadata": {
        "id": "kaQDXnmKY8N8"
      },
      "source": [
        "### /rgbs\n",
        "\n",
        "Propriedades das imagens contidas na pasta /RGBS"
      ]
    },
    {
      "cell_type": "code",
      "execution_count": null,
      "metadata": {
        "colab": {
          "base_uri": "https://localhost:8080/"
        },
        "id": "JE8_Lz3xY6nI",
        "outputId": "e6c9fdae-60dc-4c44-9db0-24b9d425fddb"
      },
      "outputs": [],
      "source": [
        "rgbs_path = (dir_path + 'dataset_inteli/rgbs/')\n",
        "\n",
        "images = os.listdir(rgbs_path)\n",
        "\n",
        "for image_name in images:\n",
        "  image_path = (rgbs_path + image_name)\n",
        "  image = Image.open(image_path)\n",
        "  print(\"{}: {}\".format(image_name, image.size))\n",
        "\n",
        "print(\"{} imagens\".format(len(images)))"
      ]
    },
    {
      "cell_type": "markdown",
      "metadata": {
        "id": "Tj46nKsJid3y"
      },
      "source": [
        "### /masks\n",
        "\n",
        "Propriedades das imagens contidas na pasta /masks"
      ]
    },
    {
      "cell_type": "code",
      "execution_count": null,
      "metadata": {
        "colab": {
          "base_uri": "https://localhost:8080/"
        },
        "id": "h3gjh3lDioXf",
        "outputId": "1f4fa36e-66dc-41cb-8c75-d4121a76e022"
      },
      "outputs": [],
      "source": [
        "masks_path = (dir_path + 'dataset_inteli/masks/')\n",
        "\n",
        "images = os.listdir(masks_path)\n",
        "\n",
        "for image_name in images:\n",
        "  image_path = (masks_path + image_name)\n",
        "  image = Image.open(image_path)\n",
        "  print(\"{}: {}\".format(image_name, image.size))\n",
        "\n",
        "print(\"{} imagens\".format(len(images)))"
      ]
    },
    {
      "cell_type": "markdown",
      "metadata": {
        "id": "CtkZFodGPkeG"
      },
      "source": [
        "### /tci_pngs\n",
        "\n",
        "Propriedades das imagens contidas na pasta /tci_pngs\n",
        "\n",
        "PS: sabe-se que a pasta 'tci_pngs' e 'tci_tifs' possuem as mesmas imagens, mas em formatos diferentes, sendo eles .png e .tif (usado para identificação da imagem em softwares como QGIS), portanto, as características são iguais entre elas."
      ]
    },
    {
      "cell_type": "code",
      "execution_count": null,
      "metadata": {
        "colab": {
          "base_uri": "https://localhost:8080/"
        },
        "id": "xFGbCM9fPkeN",
        "outputId": "3e9a45f0-94d6-4191-e429-3536c24edf9c"
      },
      "outputs": [],
      "source": [
        "tci_pngs_path = (dir_path + 'dataset_inteli/tci_pngs/')\n",
        "\n",
        "images = os.listdir(tci_pngs_path)\n",
        "\n",
        "for image_name in images:\n",
        "  image_path = (tci_pngs_path + image_name)\n",
        "  image = Image.open(image_path)\n",
        "  print(\"{}: {}\".format(image_name, image.size))\n",
        "\n",
        "print(\"{} imagens\".format(len(images)))"
      ]
    },
    {
      "cell_type": "markdown",
      "metadata": {
        "id": "r2yFspHyl28y"
      },
      "source": [
        "### /tci_tif\n",
        "Propriedades das imagens contidas na pasta /tci_pngs"
      ]
    },
    {
      "cell_type": "code",
      "execution_count": null,
      "metadata": {
        "colab": {
          "base_uri": "https://localhost:8080/"
        },
        "id": "DNj4fDpsmCMh",
        "outputId": "a45dbc77-48a3-49e6-e3a0-0c51766f24ac"
      },
      "outputs": [],
      "source": [
        "tci_tifs_path = (dir_path + 'dataset_inteli/tci_tifs/')\n",
        "\n",
        "images = os.listdir(tci_tifs_path)\n",
        "\n",
        "for image_name in images:\n",
        "  image_path = (tci_tifs_path + image_name)\n",
        "  image = Image.open(image_path)\n",
        "  print(\"{}: {}\".format(image_name, image.size))\n",
        "\n",
        "print(\"{} imagens\".format(len(images)))"
      ]
    },
    {
      "cell_type": "markdown",
      "metadata": {
        "id": "5ESYyIhNiR7A"
      },
      "source": [
        "### Conclusão:\n",
        "Com base nos códigos executados acima, conclui-se que todas as pastas possuem as mesmas 15 imagens de 1200x1200 pixels, porém com processamentos diferentes."
      ]
    },
    {
      "cell_type": "markdown",
      "metadata": {
        "id": "cKNglpq_kPs4"
      },
      "source": [
        "# Recorte das imagens\n",
        "\n",
        "Com o intuito de promover o melhor tipo de entrada para a rede neural, foi realizado um estudo a fim de compreender quais os formatos de imagens facilitam o treino pela rede neural convolucional, levando em consideração pequenos (5.000 imagens) e grande conjuntos de imagens (11.000 imagens), e diferentes recortes das imagens de treino (200×200, 300×300, e 400×400 pixels). De acordo com Zhuang J et. al [1], para um pequeno conjunto de dados de treinamento, o aumento do tamanho das imagens aumentou as pontuações F1 score dos algoritmos DenseNet e ResNet. Para o grande conjunto de dados de treinamento, nenhuma diferença óbvia foi detectada entre os tamanhos das imagens de treinamento, uma vez que todas as redes neurais exibiram precisões de classificação notáveis com altas pontuações de F1 score (≥0,96). Todas as redes neurais de classificação de imagens exibiram pontuações F1 score altas (≥0,99) quando treinadas com o grande conjunto de dados de treinamento e as imagens de treinamento de 200×200 pixels. Logo, tendo em vista o exposto, o recorte das imagens do presente projeto levará em questão imagens com 200x200 pixels, a fim de verificar se esse resultado se aplica às técnicas implementadas neste trabalho."
      ]
    },
    {
      "cell_type": "code",
      "execution_count": null,
      "metadata": {
        "colab": {
          "base_uri": "https://localhost:8080/"
        },
        "id": "1MkPwLYxnlL1",
        "outputId": "b791f22f-73e2-4593-963c-ce9fc7a36f95"
      },
      "outputs": [],
      "source": [
        "# Create 'new_images' folder\n",
        "\n",
        "data_path = dir_path + 'dataset_inteli/'\n",
        "cropped_images_path = data_path + 'cropped_images/'\n",
        "\n",
        "if not os.path.exists(cropped_images_path):\n",
        "    os.mkdir(cropped_images_path)\n",
        "\n",
        "os.listdir(data_path)"
      ]
    },
    {
      "cell_type": "markdown",
      "metadata": {
        "id": "bxBcIIuMpD0I"
      },
      "source": [
        "## Recorte das imagens /tci_tifs\n",
        "\n",
        "Foram geradas 5 novas imagens para cada .tif presente na pasta /tci_tifs."
      ]
    },
    {
      "cell_type": "code",
      "execution_count": null,
      "metadata": {
        "id": "sbL5tpKJwWYK"
      },
      "outputs": [],
      "source": [
        "crop_size = (200, 200)\n",
        "j = 0"
      ]
    },
    {
      "cell_type": "code",
      "execution_count": null,
      "metadata": {
        "colab": {
          "background_save": true,
          "base_uri": "https://localhost:8080/",
          "height": 1000
        },
        "id": "n87QhI6i5CYF",
        "outputId": "61271d91-0825-4cb2-95ff-92c22c7a2f52"
      },
      "outputs": [],
      "source": [
        "for filename in os.listdir(tci_tifs_path):\n",
        "    image_path = os.path.join(tci_tifs_path, filename)\n",
        "    img = Image.open(image_path)\n",
        "    draw = ImageDraw.Draw(img)\n",
        "\n",
        "    cropped_areas = []\n",
        "\n",
        "    for i in range(5):\n",
        "        while True:\n",
        "            left = random.randint(0, img.width - crop_size[0])\n",
        "            top = random.randint(0, img.height - crop_size[1])\n",
        "            right = left + crop_size[0]\n",
        "            bottom = top + crop_size[1]\n",
        "\n",
        "            overlap = False\n",
        "            for area in cropped_areas:\n",
        "                if (left < area[2] and right > area[0] and\n",
        "                    top < area[3] and bottom > area[1]):\n",
        "                    overlap = True\n",
        "                    break\n",
        "\n",
        "            if not overlap:\n",
        "                cropped_areas.append((left, top, right, bottom))\n",
        "                break\n",
        "\n",
        "        cropped_img = img.crop((left, top, right, bottom))\n",
        "        cropped_img.save(os.path.join(cropped_images_path, f'{filename[:4]}_crop_{i}.tif'))\n",
        "        draw.rectangle([left, top, right, bottom], outline=\"red\", width=3)\n",
        "\n",
        "    plt.figure(figsize=(6, 6))\n",
        "    plt.imshow(img)\n",
        "    plt.title(f'Destaque das áreas recortadas em {filename}')\n",
        "    plt.axis('off')\n",
        "    plt.show()"
      ]
    },
    {
      "cell_type": "markdown",
      "metadata": {
        "id": "OLaJFsS2RtT7"
      },
      "source": [
        "# Referências bibliográficas"
      ]
    },
    {
      "cell_type": "markdown",
      "metadata": {
        "id": "P_3D6mFTRqGq"
      },
      "source": [
        "[1] Zhuang J, Li X, Bagavathiannan M, Jin X, Yang J, Meng W, Li T, Li L, Wang Y, Chen Y, Yu J. Evaluation of different deep convolutional neural networks for detection of broadleaf weed seedlings in wheat. Pest Manag Sci. 2022 Feb;78(2):521-529. doi: 10.1002/ps.6656. Epub 2021 Oct 5. PMID: 34561954."
      ]
    }
  ],
  "metadata": {
    "colab": {
      "collapsed_sections": [
        "Tj46nKsJid3y"
      ],
      "provenance": []
    },
    "kernelspec": {
      "display_name": "Python 3",
      "name": "python3"
    },
    "language_info": {
      "name": "python"
    }
  },
  "nbformat": 4,
  "nbformat_minor": 0
}
