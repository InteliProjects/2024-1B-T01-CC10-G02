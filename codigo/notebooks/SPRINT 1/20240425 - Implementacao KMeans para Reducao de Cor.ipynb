{
  "cells": [
    {
      "cell_type": "code",
      "execution_count": null,
      "metadata": {
        "colab": {
          "base_uri": "https://localhost:8080/"
        },
        "id": "X7_4RizM4JXh",
        "outputId": "0cbfec02-a802-4e2a-f0fe-f6f68b38b164"
      },
      "outputs": [],
      "source": [
        "from google.colab import drive\n",
        "drive.mount('/content/drive')"
      ]
    },
    {
      "cell_type": "code",
      "execution_count": null,
      "metadata": {
        "id": "-CBe-sPo6Okj"
      },
      "outputs": [],
      "source": [
        "import cv2\n",
        "import matplotlib.pyplot as plt\n",
        "import numpy as np\n",
        "import pandas as pd\n",
        "import os\n",
        "from sklearn.cluster import KMeans\n",
        "import tqdm"
      ]
    },
    {
      "cell_type": "markdown",
      "metadata": {
        "id": "9F5usjeIzp3b"
      },
      "source": [
        "Achando o melhor valor de K usando o método do cotovelo."
      ]
    },
    {
      "cell_type": "code",
      "execution_count": null,
      "metadata": {
        "colab": {
          "base_uri": "https://localhost:8080/",
          "height": 837
        },
        "id": "wrnt_l-DsEyO",
        "outputId": "14c76d77-9d64-4cb8-b384-3f669dc07f3d"
      },
      "outputs": [],
      "source": [
        "# Lê a imagem do disco\n",
        "img = cv2.imread('path')\n",
        "\n",
        "# Converte a imagem de BGR para RGB\n",
        "img = cv2.cvtColor(img, cv2.COLOR_BGR2RGB)\n",
        "\n",
        "# Vectoriza a imagem, convertendo-a em uma matriz 2D de pixels\n",
        "vectorized_img = img.reshape((-1,3))\n",
        "vectorized_img = np.float32(vectorized_img)\n",
        "\n",
        "# Define uma lista de números de clusters para testar\n",
        "n_clusters = list(range(4, 15 + 1, 1))\n",
        "\n",
        "# Inicializa listas para armazenar os modelos KMeans e suas respectivas inércias\n",
        "kmeans = []\n",
        "inertias = []\n",
        "\n",
        "# Itera sobre os diferentes números de clusters\n",
        "for i in tqdm.trange(len(n_clusters)):\n",
        "    # Inicializa um modelo KMeans com o número de clusters atual\n",
        "    kmeans.append(KMeans(n_clusters = n_clusters[i], random_state = 42))\n",
        "\n",
        "    # Ajusta o modelo aos dados vectorizados da imagem\n",
        "    kmeans[-1].fit(vectorized_img)\n",
        "\n",
        "    # Calcula e armazena a inércia do modelo atual\n",
        "    inertias.append(kmeans[-1].inertia_)\n",
        "\n",
        "# Plota os resultados\n",
        "plt.figure(figsize = [20, 5])\n",
        "\n",
        "# Subplot 1: Gráfico de Inércia em função do número de clusters\n",
        "plt.subplot(1, 2, 1)\n",
        "plt.plot(n_clusters, inertias, \"-o\")\n",
        "plt.xlabel(\"$k$\", fontsize = 14)\n",
        "plt.ylabel(\"Inertia\", fontsize = 14)\n",
        "plt.grid(True)\n",
        "\n",
        "# Subplot 2: Gráfico da mudança na inércia em função do número de clusters\n",
        "plt.subplot(1, 2, 2)\n",
        "plt.plot(n_clusters[:-1], np.diff(inertias), \"-o\")\n",
        "plt.xlabel(\"$k$\", fontsize = 14)\n",
        "plt.ylabel(\"Change in inertia\", fontsize = 14)\n",
        "plt.grid(True)\n",
        "\n",
        "# Mostra os gráficos\n",
        "plt.show()"
      ]
    },
    {
      "cell_type": "markdown",
      "metadata": {
        "id": "i6w9dNLmqHZX"
      },
      "source": [
        "Dado que a diferença de Ks chega em um platô no K = 10, esse será o valor escolhido para essa parte do pré processamento"
      ]
    },
    {
      "cell_type": "code",
      "execution_count": null,
      "metadata": {
        "id": "EDB1tPof51Et"
      },
      "outputs": [],
      "source": [
        "def kmeansImagem(caminho_imagem, k, attempts=10):\n",
        "    img = cv2.imread(caminho_imagem)\n",
        "\n",
        "    # Redimensionar a imagem para um vetor 1D\n",
        "    vectorized_img = img.reshape((-1,3))\n",
        "    vectorized_img = np.float32(vectorized_img)\n",
        "\n",
        "    # Definir critérios para o algoritmo K-means\n",
        "    criteria = (cv2.TERM_CRITERIA_EPS + cv2.TERM_CRITERIA_MAX_ITER, 10, 1.0)\n",
        "\n",
        "    # Executar o algoritmo K-means\n",
        "    ret, label, center = cv2.kmeans(vectorized_img, k, None, criteria, attempts, cv2.KMEANS_PP_CENTERS)\n",
        "    center = np.uint8(center)\n",
        "\n",
        "    # Recriar a imagem a partir dos clusters encontrados\n",
        "    res = center[label.flatten()]\n",
        "    result_image = res.reshape((img.shape))\n",
        "\n",
        "    return result_image\n",
        "\n",
        "def sharpenImage(imagem):\n",
        "    # Cria um kernel para afiar a imagem\n",
        "    kernel = np.array([[-1,-1,-1],\n",
        "                      [-1,9,-1],\n",
        "                      [-1,-1,-1]])\n",
        "\n",
        "    # Aplica o kernel na imagem usando filter2D\n",
        "    sharpened_image = cv2.filter2D(imagem, -1, kernel)\n",
        "\n",
        "    return sharpened_image\n",
        "\n",
        "\n",
        "def processar_todas_imagens(diretorio, k, attempts=10):\n",
        "    # Lista todas as imagens no diretório\n",
        "    imagens = os.listdir(diretorio)\n",
        "    imagensRetorno = []\n",
        "\n",
        "    # Itera sobre todas as imagens no diretório\n",
        "    for imagem_nome in imagens:\n",
        "        caminho_imagem = os.path.join(diretorio, imagem_nome)\n",
        "\n",
        "        # Aplica o algoritmo de k-means na imagem\n",
        "        kmeansImage = kmeansImagem(caminho_imagem, k, attempts)\n",
        "\n",
        "        # Afia a imagem resultante\n",
        "        sharpenedImage = sharpenImage(kmeansImage)\n",
        "\n",
        "        # Adiciona a imagem afiada à lista de retorno\n",
        "        imagensRetorno.append(sharpenedImage)\n",
        "    return imagensRetorno"
      ]
    },
    {
      "cell_type": "code",
      "execution_count": null,
      "metadata": {
        "colab": {
          "base_uri": "https://localhost:8080/",
          "height": 1000
        },
        "id": "mqqp-c4vBXat",
        "outputId": "77b253b1-962a-436a-ba64-698689617764"
      },
      "outputs": [],
      "source": [
        "# Define o caminho da imagem\n",
        "caminho_imagem = '/content/drive/MyDrive/Agro-data/dataset_inteli/dataset_inteli/tci_pngs/1401_2020-8-28_S2L1C_21JYN_TCI.png'\n",
        "\n",
        "# Lê a imagem do disco\n",
        "imagemTeste = cv2.imread(caminho_imagem)\n",
        "\n",
        "# Plota a imagem\n",
        "plt.figure(figsize=(20, 15))  # Define o tamanho da figura\n",
        "imagemTeste = cv2.cvtColor(imagemTeste, cv2.COLOR_BGR2RGB)  # Converte a imagem de BGR para RGB\n",
        "plt.title('Original Image')   # Define o título do gráfico como \"Original Image\"\n",
        "plt.imshow(imagemTeste)       # Exibe a imagem\n",
        "plt.show()                    # Mostra a figura"
      ]
    },
    {
      "cell_type": "code",
      "execution_count": null,
      "metadata": {
        "colab": {
          "base_uri": "https://localhost:8080/",
          "height": 1000
        },
        "id": "9eOimbzfM_mu",
        "outputId": "df87151d-90b1-448a-ce5d-6e917d0765f8"
      },
      "outputs": [],
      "source": [
        "# Define o tamanho da figura\n",
        "plt.figure(figsize=(20, 15))\n",
        "\n",
        "# Aplica o algoritmo de k-means na imagem\n",
        "imagemTesteKmeans = kmeansImagem(caminho_imagem, 3, 10)\n",
        "\n",
        "# Converte a imagem de BGR para RGB\n",
        "imagemTesteKmeans = cv2.cvtColor(imagemTesteKmeans, cv2.COLOR_BGR2RGB)\n",
        "\n",
        "# Define o título do gráfico como \"Kmeans Image\"\n",
        "plt.title('Kmeans Image')\n",
        "\n",
        "# Exibe a imagem\n",
        "plt.imshow(imagemTesteKmeans)\n",
        "\n",
        "# Mostra a figura\n",
        "plt.show()"
      ]
    },
    {
      "cell_type": "code",
      "execution_count": null,
      "metadata": {
        "colab": {
          "base_uri": "https://localhost:8080/",
          "height": 1000
        },
        "id": "laoILGQJ2uye",
        "outputId": "65af0fc5-be6b-46d6-d955-06799f1a443f"
      },
      "outputs": [],
      "source": [
        "# Lê a imagem do disco\n",
        "img = cv2.imread(caminho_imagem)\n",
        "\n",
        "# Aplica a função de afiação à imagem\n",
        "img = sharpenImage(img)\n",
        "\n",
        "# Converte a imagem de BGR para RGB\n",
        "img = cv2.cvtColor(img, cv2.COLOR_BGR2RGB)\n",
        "\n",
        "# Define o tamanho da figura\n",
        "plt.figure(figsize=(20, 15))\n",
        "\n",
        "# Define o título do gráfico como \"Sharpen Image\"\n",
        "plt.title('Sharpen Image')\n",
        "\n",
        "# Exibe a imagem\n",
        "plt.imshow(img)\n",
        "\n",
        "# Mostra a figura\n",
        "plt.show()"
      ]
    },
    {
      "cell_type": "code",
      "execution_count": null,
      "metadata": {
        "colab": {
          "base_uri": "https://localhost:8080/",
          "height": 1000
        },
        "id": "nVod3uRh7arC",
        "outputId": "f7d4ea50-f63d-4bd3-8014-41df139ab29d"
      },
      "outputs": [],
      "source": [
        "# Define o diretório contendo as imagens a serem processadas\n",
        "diretorio = 'drive/MyDrive/Agro-data/dataset_inteli/dataset_inteli/tci_pngs/'\n",
        "\n",
        "# Processa todas as imagens no diretório usando a função processar_todas_imagens\n",
        "imagens = processar_todas_imagens(diretorio, 10)\n",
        "\n",
        "# Itera sobre cada imagem processada\n",
        "for imagem in imagens:\n",
        "    # Converte a imagem de BGR para RGB\n",
        "    img = cv2.cvtColor(imagem, cv2.COLOR_BGR2RGB)\n",
        "\n",
        "    # Define o tamanho da figura\n",
        "    plt.figure(figsize=(20, 15))\n",
        "\n",
        "    # Exibe a imagem\n",
        "    plt.imshow(img)\n",
        "\n",
        "    # Mostra a figura\n",
        "    plt.show()"
      ]
    }
  ],
  "metadata": {
    "colab": {
      "provenance": []
    },
    "kernelspec": {
      "display_name": "Python 3",
      "name": "python3"
    },
    "language_info": {
      "name": "python"
    }
  },
  "nbformat": 4,
  "nbformat_minor": 0
}
