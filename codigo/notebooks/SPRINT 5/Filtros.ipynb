{
  "cells": [
    {
      "cell_type": "code",
      "execution_count": null,
      "metadata": {
        "id": "wywBDZMVUvMq"
      },
      "outputs": [],
      "source": [
        "from keras.utils import Sequence\n",
        "from google.colab import drive\n",
        "from glob import glob\n",
        "import numpy as np\n",
        "import matplotlib.image as img\n",
        "from skimage.transform import resize\n",
        "import tensorflow as tf\n",
        "import matplotlib.pyplot as plt\n",
        "import cv2"
      ]
    },
    {
      "cell_type": "code",
      "execution_count": null,
      "metadata": {
        "colab": {
          "base_uri": "https://localhost:8080/"
        },
        "id": "cyjGJb5xU5LP",
        "outputId": "473024c2-57a2-4693-83db-d3deb9a73662"
      },
      "outputs": [],
      "source": [
        "drive.mount('/content/drive')"
      ]
    },
    {
      "cell_type": "code",
      "execution_count": null,
      "metadata": {
        "id": "0MGJdaVeTlJ-"
      },
      "outputs": [],
      "source": [
        "class GeradorSequencias(Sequence):\n",
        "\n",
        "    def __init__(self, entradas, saidas, batch_size):\n",
        "        self.entradas = entradas\n",
        "        self.saidas = saidas\n",
        "        self.batch_size  = batch_size\n",
        "\n",
        "    #como calcular a quantidade de lotes: (tamanho do dataset / tamanho do lote)\n",
        "    def __len__(self):\n",
        "        return len(self.entradas) // (self.batch_size) # \"//\" pega o inteiro\n",
        "\n",
        "    #forma de acessar o índice do lote ([0, 1]) --> para obter o índice 0, multiplique o nº do lote pelo seu tamanho\n",
        "    def __getitem__(self, id):\n",
        "        esquerda = id * self.batch_size\n",
        "        direita = min(esquerda + self.batch_size, len(self.entradas))\n",
        "        batch_entradas = self.entradas[esquerda:direita]\n",
        "        batch_saidas = self.saidas[esquerda:direita]\n",
        "\n",
        "        #redimensionar as imagens de entrada (já está normalizada)\n",
        "        entradas_redimensionadas = []\n",
        "        for caminho_img in batch_entradas:\n",
        "            img_entrada = img.imread(caminho_img + 'image.tif')\n",
        "            img_redimensionada_entrada = resize(img_entrada, (256, 256))\n",
        "            entradas_redimensionadas.append(img_entrada)\n",
        "\n",
        "        #redimensionar as máscaras de saída\n",
        "        saidas_redimensionadas = []\n",
        "        for caminho_img in batch_saidas:\n",
        "            img_saida = img.imread(caminho_img + 'mask.png')\n",
        "            img_redimensionada_saida = resize(img_saida, (256, 256))\n",
        "            img_redimensionada_saida = np.array(img_redimensionada_saida)\n",
        "            min_val = np.min(img_redimensionada_saida)\n",
        "            max_val = np.max(img_redimensionada_saida)\n",
        "            img_redimensionada_saida = (img_redimensionada_saida - min_val) / (max_val - min_val)\n",
        "            threshold = 0.5\n",
        "            img_redimensionada_saida = tf.where(img_redimensionada_saida < threshold, 0.0, 1.0)\n",
        "            saidas_redimensionadas.append(img_redimensionada_saida)\n",
        "\n",
        "        return np.array(entradas_redimensionadas), np.array(saidas_redimensionadas)"
      ]
    },
    {
      "cell_type": "code",
      "execution_count": null,
      "metadata": {
        "id": "NMru-CSKT41v"
      },
      "outputs": [],
      "source": [
        "caminhos = glob('/content/drive/Shareddrives/Grupo T de Tech/Data/dataset_inteli/cropped_images/*/*/')\n",
        "np.random.shuffle(caminhos)"
      ]
    },
    {
      "cell_type": "code",
      "execution_count": null,
      "metadata": {
        "id": "TngYvP72T7nT"
      },
      "outputs": [],
      "source": [
        "sequencia = GeradorSequencias(caminhos, caminhos, 32)"
      ]
    },
    {
      "cell_type": "code",
      "execution_count": null,
      "metadata": {
        "id": "s-DeKudAURlk"
      },
      "outputs": [],
      "source": [
        "primeiro_lote_entradas, primeiro_lote_saidas = sequencia.__getitem__(0)"
      ]
    },
    {
      "cell_type": "code",
      "execution_count": null,
      "metadata": {
        "colab": {
          "base_uri": "https://localhost:8080/",
          "height": 411
        },
        "id": "xIWnr3nSUia9",
        "outputId": "bd857df3-0b2d-4e3c-f11f-ea0da2fe8c00"
      },
      "outputs": [],
      "source": [
        "img_entrada = primeiro_lote_entradas[9]\n",
        "\n",
        "# Mostrando as imagens\n",
        "plt.figure(figsize=(10, 8))\n",
        "plt.subplot(1, 2, 1)\n",
        "plt.imshow(img_entrada, cmap='gray')\n",
        "plt.title('Entrada')\n",
        "plt.axis('off')\n",
        "\n",
        "\n",
        "plt.show()"
      ]
    },
    {
      "cell_type": "code",
      "execution_count": null,
      "metadata": {
        "id": "uWmsM71h8EOZ"
      },
      "outputs": [],
      "source": [
        "#image_equalized = cv2.equalizeHist(img_entrada)\n",
        "image_gray = cv2.cvtColor(img_entrada, cv2.COLOR_BGR2GRAY)\n",
        "image_equalized = cv2.equalizeHist(image_gray)"
      ]
    },
    {
      "cell_type": "code",
      "execution_count": null,
      "metadata": {
        "colab": {
          "base_uri": "https://localhost:8080/",
          "height": 411
        },
        "id": "1IksCTG2AhmH",
        "outputId": "6db4ac93-a975-40ed-8fc3-774f3b19b40e"
      },
      "outputs": [],
      "source": [
        "plt.figure(figsize=(10, 8))\n",
        "plt.subplot(1, 2, 1)\n",
        "plt.imshow(image_equalized, cmap=\"gray\")\n",
        "plt.title('Entrada')\n",
        "plt.axis('off')\n",
        "\n",
        "\n",
        "plt.show()"
      ]
    },
    {
      "cell_type": "code",
      "execution_count": null,
      "metadata": {
        "colab": {
          "base_uri": "https://localhost:8080/",
          "height": 389
        },
        "id": "l1zTZkkjeVM7",
        "outputId": "bb10fd1d-91b0-44ab-f1d7-273a532a72f0"
      },
      "outputs": [],
      "source": [
        "# Compute Sobel gradients\n",
        "sobelX = cv2.Sobel(image_equalized, cv2.CV_64F, 1, 0, ksize=3)\n",
        "sobelY = cv2.Sobel(image_equalized, cv2.CV_64F, 0, 1, ksize=3)\n",
        "\n",
        "# Compute the gradient magnitude\n",
        "sobelCombined = cv2.magnitude(sobelX, sobelY)\n",
        "\n",
        "# Normalizar a imagem resultante para melhorar a visualização\n",
        "sobelCombined_normalized = cv2.normalize(sobelCombined, None, 0, 255, cv2.NORM_MINMAX)\n",
        "\n",
        "# Mostrando as imagens\n",
        "plt.figure(figsize=(10, 8))\n",
        "plt.subplot(1, 2, 1)\n",
        "plt.imshow(sobelCombined_normalized, cmap='gray')\n",
        "plt.axis('off')\n",
        "\n",
        "\n",
        "plt.show()"
      ]
    },
    {
      "cell_type": "code",
      "execution_count": null,
      "metadata": {
        "id": "ypXE5AaOctho"
      },
      "outputs": [],
      "source": []
    }
  ],
  "metadata": {
    "colab": {
      "provenance": []
    },
    "kernelspec": {
      "display_name": "Python 3",
      "name": "python3"
    },
    "language_info": {
      "name": "python"
    }
  },
  "nbformat": 4,
  "nbformat_minor": 0
}
