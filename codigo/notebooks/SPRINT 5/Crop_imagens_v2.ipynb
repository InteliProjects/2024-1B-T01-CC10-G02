{
  "cells": [
    {
      "cell_type": "code",
      "execution_count": null,
      "metadata": {
        "id": "TEooIwkJgv4c"
      },
      "outputs": [],
      "source": [
        "from google.colab import drive\n",
        "import os\n",
        "import re\n",
        "from PIL import Image"
      ]
    },
    {
      "cell_type": "code",
      "execution_count": null,
      "metadata": {
        "colab": {
          "base_uri": "https://localhost:8080/"
        },
        "id": "YCSd8Y-ohG3w",
        "outputId": "1c0ea778-01d2-491a-d53a-6b0e6aac896e"
      },
      "outputs": [],
      "source": [
        "drive.mount('/content/drive', force_remount=True)"
      ]
    },
    {
      "cell_type": "markdown",
      "metadata": {
        "id": "uAj8ql__haC9"
      },
      "source": [
        "# Crop das images e respectivas segmentações"
      ]
    },
    {
      "cell_type": "code",
      "execution_count": null,
      "metadata": {
        "colab": {
          "base_uri": "https://localhost:8080/"
        },
        "id": "vuuDh8RYiQMQ",
        "outputId": "5d03621f-532a-43ce-bc61-00815dcaf5b1"
      },
      "outputs": [],
      "source": [
        "os.listdir('/content/drive/Shared drives/Grupo T de Tech/Data/dataset_inteli_test/new_cropped/')"
      ]
    },
    {
      "cell_type": "markdown",
      "metadata": {
        "id": "FKivDIaPeM68"
      },
      "source": [
        "## imagens dataset_inteli_test"
      ]
    },
    {
      "cell_type": "code",
      "execution_count": null,
      "metadata": {
        "id": "TF3TASjUeM69"
      },
      "outputs": [],
      "source": [
        "test_masks_path = '/content/drive/Shared drives/Grupo T de Tech/Data/dataset_inteli_test/masks/'\n",
        "test_tifs_path = '/content/drive/Shared drives/Grupo T de Tech/Data/dataset_inteli_test/tci_tifs/'"
      ]
    },
    {
      "cell_type": "code",
      "execution_count": null,
      "metadata": {
        "id": "53wNjcuYeM6-"
      },
      "outputs": [],
      "source": [
        "ordered_masks = sorted(os.listdir(test_masks_path))\n",
        "ordered_tifs = sorted(os.listdir(test_tifs_path))"
      ]
    },
    {
      "cell_type": "code",
      "execution_count": null,
      "metadata": {
        "id": "ed00g8dseM6_"
      },
      "outputs": [],
      "source": [
        "for i in range(len(ordered_masks)):\n",
        "  count = 0\n",
        "  mask = Image.open('/content/drive/Shared drives/Grupo T de Tech/Data/dataset_inteli_test/masks/' + ordered_masks[i])\n",
        "  tif = Image.open('/content/drive/Shared drives/Grupo T de Tech/Data/dataset_inteli_test/tci_tifs/' + ordered_tifs[i])\n",
        "  mask = mask.resize((1280,1280))\n",
        "  tif = tif.resize((1280,1280))\n",
        "  image_name = re.findall(r'\\d+', ordered_masks[i])\n",
        "  os.mkdir('/content/drive/Shared drives/Grupo T de Tech/Data/dataset_inteli_test/new_cropped/{}'.format((''.join(image_name))))\n",
        "  for row in range(5):\n",
        "    for col in range(5):\n",
        "      os.mkdir('/content/drive/Shared drives/Grupo T de Tech/Data/dataset_inteli_test/new_cropped/{}/{}'.format((''.join(image_name)), (count)))\n",
        "      left = (col)*256\n",
        "      top = (row)*256\n",
        "      right = left + 256\n",
        "      bottom = top + 256\n",
        "\n",
        "      cropped_mask = mask.crop((left, top, right, bottom))\n",
        "      cropped_tif = tif.crop((left, top, right, bottom))\n",
        "      cropped_mask.save(os.path.join('/content/drive/Shared drives/Grupo T de Tech/Data/dataset_inteli_test/new_cropped/{}/{}'.format((''.join(image_name)), (count)), 'mask.png'))\n",
        "      cropped_tif.save(os.path.join('/content/drive/Shared drives/Grupo T de Tech/Data/dataset_inteli_test/new_cropped/{}/{}'.format((''.join(image_name)), (count)), 'image.tif'))\n",
        "      count += 1"
      ]
    },
    {
      "cell_type": "markdown",
      "metadata": {
        "id": "GXGlqzXveP4Q"
      },
      "source": [
        "## imagens dataset_inteli"
      ]
    },
    {
      "cell_type": "code",
      "execution_count": null,
      "metadata": {
        "id": "yYoQSdKghc49"
      },
      "outputs": [],
      "source": [
        "masks_path = '/content/drive/Shared drives/Grupo T de Tech/Data/dataset_inteli/masks/'\n",
        "tifs_path = '/content/drive/Shared drives/Grupo T de Tech/Data/dataset_inteli/tci_tifs/'"
      ]
    },
    {
      "cell_type": "code",
      "execution_count": null,
      "metadata": {
        "id": "l1hz2VENhc4-"
      },
      "outputs": [],
      "source": [
        "ordered_masks = sorted(os.listdir(masks_path))\n",
        "ordered_tifs = sorted(os.listdir(tifs_path))"
      ]
    },
    {
      "cell_type": "code",
      "execution_count": null,
      "metadata": {
        "id": "OgRbvcvthc4-"
      },
      "outputs": [],
      "source": [
        "for i in range(len(ordered_masks)):\n",
        "  count = 0\n",
        "  mask = Image.open('/content/drive/Shared drives/Grupo T de Tech/Data/dataset_inteli/masks/' + ordered_masks[i])\n",
        "  tif = Image.open('/content/drive/Shared drives/Grupo T de Tech/Data/dataset_inteli/tci_tifs/' + ordered_tifs[i])\n",
        "  mask = mask.resize((1280,1280))\n",
        "  tif = tif.resize((1280,1280))\n",
        "  image_name = re.findall(r'\\d+', ordered_masks[i])\n",
        "  os.mkdir('/content/drive/Shared drives/Grupo T de Tech/Data/dataset_inteli_test/new_cropped/{}'.format((''.join(image_name))))\n",
        "  for row in range(5):\n",
        "    for col in range(5):\n",
        "      os.mkdir('/content/drive/Shared drives/Grupo T de Tech/Data/dataset_inteli_test/new_cropped/{}/{}'.format((''.join(image_name)), (count)))\n",
        "      left = (col)*256\n",
        "      top = (row)*256\n",
        "      right = left + 256\n",
        "      bottom = top + 256\n",
        "\n",
        "      cropped_mask = mask.crop((left, top, right, bottom))\n",
        "      cropped_tif = tif.crop((left, top, right, bottom))\n",
        "      cropped_mask.save(os.path.join('/content/drive/Shared drives/Grupo T de Tech/Data/dataset_inteli_test/new_cropped/{}/{}'.format((''.join(image_name)), (count)), 'mask.png'))\n",
        "      cropped_tif.save(os.path.join('/content/drive/Shared drives/Grupo T de Tech/Data/dataset_inteli_test/new_cropped/{}/{}'.format((''.join(image_name)), (count)), 'image.tif'))\n",
        "      count += 1"
      ]
    },
    {
      "cell_type": "markdown",
      "metadata": {
        "id": "hxSj-1JreGYZ"
      },
      "source": [
        "## imagens professor"
      ]
    },
    {
      "cell_type": "code",
      "execution_count": null,
      "metadata": {
        "id": "5NwYG0inhb8P"
      },
      "outputs": [],
      "source": [
        "test_tifs_path = '/content/drive/Shared drives/Grupo T de Tech/Data/dataset_professor/1000/mask/'\n",
        "test_masks_path = '/content/drive/Shared drives/Grupo T de Tech/Data/dataset_professor/1000/sem mask/'"
      ]
    },
    {
      "cell_type": "code",
      "execution_count": null,
      "metadata": {
        "id": "uA_nMux5hpSj"
      },
      "outputs": [],
      "source": [
        "ordered_masks = sorted(os.listdir(test_masks_path))\n",
        "ordered_tifs = sorted(os.listdir(test_tifs_path))"
      ]
    },
    {
      "cell_type": "code",
      "execution_count": null,
      "metadata": {
        "id": "EvG08imFhwA1"
      },
      "outputs": [],
      "source": [
        "for i in range(len(ordered_masks)):\n",
        "  count = 0\n",
        "  mask = Image.open('/content/drive/Shared drives/Grupo T de Tech/Data/dataset_professor/1000/mask/' + ordered_masks[i])\n",
        "  tif = Image.open('/content/drive/Shared drives/Grupo T de Tech/Data/dataset_professor/1000/sem mask/' + ordered_tifs[i])\n",
        "  mask = mask.resize((1280,1280))\n",
        "  tif = tif.resize((1280,1280))\n",
        "  image_name = re.findall(r'\\d+', ordered_masks[i])\n",
        "  os.mkdir('/content/drive/Shared drives/Grupo T de Tech/Data/dataset_inteli_test/new_cropped/{}'.format((''.join(image_name))))\n",
        "  for row in range(5):\n",
        "    for col in range(5):\n",
        "      os.mkdir('/content/drive/Shared drives/Grupo T de Tech/Data/dataset_inteli_test/new_cropped/{}/{}'.format((''.join(image_name)), (count)))\n",
        "      left = (col)*256\n",
        "      top = (row)*256\n",
        "      right = left + 256\n",
        "      bottom = top + 256\n",
        "\n",
        "      cropped_mask = mask.crop((left, top, right, bottom))\n",
        "      cropped_tif = tif.crop((left, top, right, bottom))\n",
        "      cropped_mask.save(os.path.join('/content/drive/Shared drives/Grupo T de Tech/Data/dataset_inteli_test/new_cropped/{}/{}'.format((''.join(image_name)), (count)), 'mask.png'))\n",
        "      cropped_tif.save(os.path.join('/content/drive/Shared drives/Grupo T de Tech/Data/dataset_inteli_test/new_cropped/{}/{}'.format((''.join(image_name)), (count)), 'image.tif'))\n",
        "      count += 1"
      ]
    }
  ],
  "metadata": {
    "accelerator": "GPU",
    "colab": {
      "gpuType": "T4",
      "provenance": []
    },
    "kernelspec": {
      "display_name": "Python 3",
      "name": "python3"
    },
    "language_info": {
      "name": "python"
    }
  },
  "nbformat": 4,
  "nbformat_minor": 0
}
