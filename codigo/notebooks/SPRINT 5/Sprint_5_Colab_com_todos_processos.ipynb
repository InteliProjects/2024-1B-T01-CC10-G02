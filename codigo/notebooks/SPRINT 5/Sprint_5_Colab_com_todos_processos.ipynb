{
  "cells": [
    {
      "cell_type": "markdown",
      "metadata": {
        "id": "Ug1gDgAgXNjT"
      },
      "source": [
        "# Implementação de modelo de segmentação para talhonamento"
      ]
    },
    {
      "cell_type": "markdown",
      "metadata": {
        "id": "E9dEpN4sYFsA"
      },
      "source": [
        "## Pré-processamento de Imagens\n",
        "\n",
        "As imagens recebidas do parceiro são de 1200x1200 pixels. Redimensionamos essas imagens para 1280x1280 pixels e, em seguida, recortamos em pedaços de 256x256 pixels. Após o recorte, as imagens são salvas e processadas pelo modelo.\n",
        "\n",
        "O processo de recorte é automatizado conforme descrito no pseudocódigo a seguir. Cada imagem de máscara e TIFF é carregada e redimensionada para 1280x1280 pixels. Em seguida, o nome da imagem é extraído para criar um diretório específico onde os recortes serão armazenados. As imagens são então divididas em uma grade de 5x5, gerando 25 recortes de 256x256 pixels. Cada recorte é salvo em um diretório correspondente com um número identificador, tanto para a máscara quanto para a imagem TIFF.\n",
        "\n",
        "Esse processo garante que as imagens estejam no formato adequado para o modelo, facilitando a análise subsequente.\n",
        "\n",
        "Segue o link do notebook implementado:\n",
        "https://github.com/Inteli-College/2024-1B-T01-CC10-G02/blob/main/codigo/notebooks/SPRINT%205/Crop_imagens_v2.ipynb"
      ]
    },
    {
      "cell_type": "markdown",
      "metadata": {
        "id": "rUab8cZFYRpw"
      },
      "source": [
        "## Data Augmentation\n",
        "\n",
        "O processo de data augmentation foi descrito e implementado durante a evolução das demais sprints do projeto, e pode ser encontrado no notebook com o link abaixo:\n",
        "\n",
        "https://github.com/Inteli-College/2024-1B-T01-CC10-G02/blob/main/codigo/notebooks/SPRINT%204/DATA%20AUGMENTATION/Sprint04_data_augmentation_com_processamento_imagem.ipynb"
      ]
    },
    {
      "cell_type": "markdown",
      "metadata": {
        "id": "cQl90jW20q1D"
      },
      "source": [
        "## Modelo de Segmentação"
      ]
    },
    {
      "cell_type": "markdown",
      "metadata": {
        "id": "PArOscX8Zn3n"
      },
      "source": [
        "### Importando bibliotecas"
      ]
    },
    {
      "cell_type": "code",
      "execution_count": null,
      "metadata": {
        "colab": {
          "base_uri": "https://localhost:8080/"
        },
        "id": "4xMX0kYMziwp",
        "outputId": "5a93760a-ec7e-4c8b-b528-7ef10786e54f"
      },
      "outputs": [],
      "source": [
        "!pip install tensorflow_model_optimization"
      ]
    },
    {
      "cell_type": "code",
      "execution_count": null,
      "metadata": {
        "id": "ehPwUJLzSsLC"
      },
      "outputs": [],
      "source": [
        "import tensorflow as tf\n",
        "tf.config.run_functions_eagerly(True)\n",
        "from google.colab import drive\n",
        "import pandas as pd\n",
        "import random\n",
        "import os\n",
        "import time\n",
        "from PIL import Image, ImageDraw\n",
        "import matplotlib.pyplot as plt\n",
        "from tensorflow.keras.callbacks import EarlyStopping, ReduceLROnPlateau, Callback\n",
        "from glob import glob\n",
        "from sklearn.model_selection import train_test_split\n",
        "import numpy as np\n",
        "from keras import layers, regularizers\n",
        "from sklearn.model_selection import train_test_split\n",
        "from tensorflow.keras.preprocessing.image import load_img, img_to_array\n",
        "from tensorflow_model_optimization.sparsity import keras as sparsity\n",
        "from tensorflow.keras.applications import MobileNetV2\n",
        "from tensorflow.keras.utils import Sequence\n",
        "from skimage.io import imread\n",
        "from skimage.transform import resize\n",
        "import numpy as np\n",
        "import tensorflow as tf\n",
        "from tqdm import tqdm"
      ]
    },
    {
      "cell_type": "code",
      "execution_count": null,
      "metadata": {
        "colab": {
          "base_uri": "https://localhost:8080/"
        },
        "id": "ibpCXTgmS_Hi",
        "outputId": "913861ac-ac90-4c2d-c78f-7400777e7b43"
      },
      "outputs": [],
      "source": [
        "drive.mount('/content/drive')"
      ]
    },
    {
      "cell_type": "markdown",
      "metadata": {
        "id": "3xSP-0NwWdAq"
      },
      "source": [
        "### Usando carregamento em lote\n",
        "\n",
        "Aqui está uma breve descrição em Markdown sobre o que está sendo implementado:\n",
        "\n",
        "A classe `CarregamentoLote` herda de `Sequence` e é utilizada para carregar e processar lotes de imagens e suas respectivas máscaras em um dataset. Esta classe facilita o carregamento em mini-lotes durante o treinamento de um modelo de aprendizado de máquina.\n",
        "\n",
        "### Métodos Implementados\n",
        "\n",
        "- `__init__(self, entradas, saidas, batch_size)`: Inicializa a classe com as entradas (caminhos das imagens de entrada), saídas (caminhos das máscaras) e o tamanho do lote (batch size).\n",
        "\n",
        "- `__len__(self)`: Retorna a quantidade de lotes no dataset, calculada dividindo o tamanho total do dataset pelo tamanho do lote.\n",
        "\n",
        "- `__getitem__(self, id)`: Retorna um lote de entradas e saídas baseado no índice fornecido. Este método:\n",
        "  - Define os índices de início e fim do lote.\n",
        "  - Carrega e redimensiona as imagens de entrada para um tamanho de 256x256.\n",
        "  - Carrega, redimensiona e normaliza as máscaras de saída para um tamanho de 256x256, aplicando uma binarização com limiar de 0.5.\n",
        "\n",
        "### Processamento das Imagens\n",
        "\n",
        "- **Imagens de Entrada**:\n",
        "  - São carregadas usando o caminho fornecido concatenado com `'image.tif'`.\n",
        "  - São redimensionadas para 256x256.\n",
        "\n",
        "- **Máscaras de Saída**:\n",
        "  - São carregadas usando o caminho fornecido concatenado com `'mask.png'`.\n",
        "  - São redimensionadas para 256x256.\n",
        "  - São normalizadas entre 0 e 1.\n",
        "  - São binarizadas com um limiar de 0.5, convertendo valores abaixo do limiar para 0 e acima para 1.\n",
        "\n",
        "Esta classe é essencial para a preparação de dados durante o treinamento de modelos que exigem um processamento eficiente de imagens e suas respectivas máscaras, garantindo que os dados sejam fornecidos em mini-lotes.\n",
        "\n"
      ]
    },
    {
      "cell_type": "code",
      "execution_count": null,
      "metadata": {
        "id": "Yz6Rn0h26UVx"
      },
      "outputs": [],
      "source": [
        "class CarregamentoLote(Sequence):\n",
        "\n",
        "    def __init__(self, entradas, saidas, batch_size):\n",
        "        self.entradas = entradas\n",
        "        self.saidas = saidas\n",
        "        self.batch_size = batch_size\n",
        "\n",
        "    def __len__(self):\n",
        "        # Calcula a quantidade de lotes com base no tamanho do dataset e do lote\n",
        "        return len(self.entradas) // self.batch_size\n",
        "\n",
        "    def __getitem__(self, id):\n",
        "        # Define os índices para o lote atual\n",
        "        esquerda = id * self.batch_size\n",
        "        direita = min(esquerda + self.batch_size, len(self.entradas))\n",
        "\n",
        "        # Obtém os lotes de entradas e saídas\n",
        "        batch_entradas = self.entradas[esquerda:direita]\n",
        "        batch_saidas = self.saidas[esquerda:direita]\n",
        "\n",
        "        # Redimensiona as imagens de entrada\n",
        "        entradas_redimensionadas = []\n",
        "        for caminho_img in tqdm(batch_entradas, desc=\"Processando entradas\", unit=\"imagem\"):\n",
        "            img_entrada = imread(caminho_img + 'image.tif')\n",
        "            img_redimensionada_entrada = resize(img_entrada, (256, 256))\n",
        "            entradas_redimensionadas.append(img_redimensionada_entrada)\n",
        "\n",
        "        # Redimensiona e normaliza as máscaras de saída\n",
        "        saidas_redimensionadas = []\n",
        "        for caminho_img in tqdm(batch_saidas, desc=\"Processando saídas\", unit=\"imagem\"):\n",
        "            img_saida = imread(caminho_img + 'mask.png')\n",
        "            img_redimensionada_saida = resize(img_saida, (256, 256))\n",
        "            img_redimensionada_saida = np.array(img_redimensionada_saida)\n",
        "\n",
        "            # Normaliza a máscara de saída\n",
        "            min_val = np.min(img_redimensionada_saida)\n",
        "            max_val = np.max(img_redimensionada_saida)\n",
        "            img_redimensionada_saida = (img_redimensionada_saida - min_val) / (max_val - min_val)\n",
        "\n",
        "            # Aplica o limiar para binarização\n",
        "            threshold = 0.5\n",
        "            img_redimensionada_saida = tf.where(img_redimensionada_saida < threshold, 0.0, 1.0)\n",
        "            saidas_redimensionadas.append(img_redimensionada_saida)\n",
        "\n",
        "        return np.array(entradas_redimensionadas), np.array(saidas_redimensionadas)"
      ]
    },
    {
      "cell_type": "code",
      "execution_count": null,
      "metadata": {
        "id": "vgFIh5hrObFb"
      },
      "outputs": [],
      "source": [
        "caminhos = glob('/content/drive/Shareddrives/Grupo T de Tech/Data/dataset_inteli_test/new_cropped/imagens_parceiro/*/*/')\n",
        "np.random.shuffle(caminhos)"
      ]
    },
    {
      "cell_type": "code",
      "execution_count": null,
      "metadata": {
        "id": "H5BavmuMVsnl"
      },
      "outputs": [],
      "source": [
        "sequencia = CarregamentoLote(caminhos, caminhos, 1024)"
      ]
    },
    {
      "cell_type": "code",
      "execution_count": null,
      "metadata": {
        "colab": {
          "base_uri": "https://localhost:8080/"
        },
        "id": "DjvVfqTPVupw",
        "outputId": "d18a49c4-4911-47b9-caa2-eedb1d0e15ff"
      },
      "outputs": [],
      "source": [
        "primeiro_lote_entradas, primeiro_lote_saidas = sequencia.__getitem__(0)"
      ]
    },
    {
      "cell_type": "code",
      "execution_count": null,
      "metadata": {
        "colab": {
          "base_uri": "https://localhost:8080/"
        },
        "collapsed": true,
        "id": "kRApOxtFQ3IX",
        "outputId": "3650a16e-f089-4ea6-f1cb-781c97c3d1de"
      },
      "outputs": [],
      "source": [
        "primeiro_lote_entradas.shape"
      ]
    },
    {
      "cell_type": "code",
      "execution_count": null,
      "metadata": {
        "id": "y1XJsmj6Iu1W"
      },
      "outputs": [],
      "source": [
        "X_train, X_val, y_train, y_val = train_test_split(primeiro_lote_entradas, primeiro_lote_saidas, test_size=0.3, random_state=42)"
      ]
    },
    {
      "cell_type": "markdown",
      "metadata": {
        "id": "dApijRqyWk_n"
      },
      "source": [
        "# Definição de parâmetros"
      ]
    },
    {
      "cell_type": "code",
      "execution_count": null,
      "metadata": {
        "id": "7JcNGKwDxX94"
      },
      "outputs": [],
      "source": [
        "class CyclicLR(Callback):\n",
        "    def __init__(self, base_lr=1e-4, max_lr=1e-3, step_size=2000., mode='triangular'):\n",
        "        super(CyclicLR, self).__init__()\n",
        "\n",
        "        self.base_lr = base_lr\n",
        "        self.max_lr = max_lr\n",
        "        self.step_size = step_size\n",
        "        self.mode = mode\n",
        "        self.iterations = 0\n",
        "        self.history = {}\n",
        "\n",
        "    def clr(self):\n",
        "        cycle = np.floor(1 + self.iterations / (2 * self.step_size))\n",
        "        x = np.abs(self.iterations / self.step_size - 2 * cycle + 1)\n",
        "        lr = self.base_lr + (self.max_lr - self.base_lr) * max(0, (1 - x))\n",
        "        if self.mode == 'triangular2':\n",
        "            lr = lr / float(2 ** (cycle - 1))\n",
        "        elif self.mode == 'exp_range':\n",
        "            lr = lr * (0.999 ** self.iterations)\n",
        "        return lr\n",
        "\n",
        "    def on_train_begin(self, logs=None):\n",
        "        logs = logs or {}\n",
        "        tf.keras.backend.set_value(self.model.optimizer.lr, self.base_lr)\n",
        "\n",
        "    def on_batch_end(self, batch, logs=None):\n",
        "        self.iterations += 1\n",
        "        lr = self.clr()\n",
        "        tf.keras.backend.set_value(self.model.optimizer.lr, lr)\n",
        "        self.history.setdefault('lr', []).append(lr)\n",
        "        for k, v in logs.items():\n",
        "            self.history.setdefault(k, []).append(v)\n",
        "\n",
        "# Função de callbacks\n",
        "def get_callbacks():\n",
        "    early_stopping = EarlyStopping(monitor='val_loss', patience=10, restore_best_weights=True)\n",
        "    reduce_lr = ReduceLROnPlateau(monitor='val_loss', factor=0.5, patience=5, min_lr=1e-6)\n",
        "    clr = CyclicLR(base_lr=1e-4, max_lr=1e-3, step_size=2000., mode='triangular2')\n",
        "    return [early_stopping, reduce_lr, clr]\n"
      ]
    },
    {
      "cell_type": "code",
      "execution_count": null,
      "metadata": {
        "id": "VZMBQc7JL15q"
      },
      "outputs": [],
      "source": [
        "# Função para calcular a sigmoide e converter para 0 ou 1 o output\n",
        "class ThresholdLayer(tf.keras.layers.Layer):\n",
        "    def call(self, inputs):\n",
        "        return tf.where(inputs < 0.5, 0.0, 1.0)\n",
        "\n",
        "# Função para calcular o Dice Coefficient\n",
        "def dice_coefficient(y_train, y_val):\n",
        "    smooth = 1e-6\n",
        "    intersection = tf.reduce_sum(y_train * y_val)\n",
        "    dice_coefficient = (2. * intersection + smooth) / (tf.reduce_sum(y_train) + tf.reduce_sum(y_val) + smooth)\n",
        "    return dice_coefficient\n",
        "\n",
        "# Função de perda de Dice\n",
        "def dice_loss(y_train, y_val):\n",
        "    return 1 - dice_coefficient(y_train, y_val)\n",
        "\n",
        "# Função para calcular a penalidade adicional\n",
        "def penalty_loss(y_train, y_val, penalty_weight):\n",
        "    # Calcular a penalidade considerando a diferença entre y_train e y_val\n",
        "    penalty = tf.reduce_sum(tf.abs(y_train - y_val))\n",
        "    # Multiplicar a penalidade pelo peso da penalidade\n",
        "    weighted_penalty = penalty_weight * penalty\n",
        "    return weighted_penalty\n",
        "\n",
        "# Função de perda combinada\n",
        "def combined_loss(y_train, y_val, alpha, beta, gamma, penalty_weight):\n",
        "    # Perda padrão (por exemplo, perda de entropia cruzada binária)\n",
        "    standard_loss = tf.keras.losses.binary_crossentropy(y_train, y_val)\n",
        "    dice = dice_loss(y_train, y_val) # Dice Loss\n",
        "    penalty = penalty_loss(y_train, y_val, penalty_weight) # Penalidade adicional\n",
        "    # Perda total = perda padrão + penalidade + Dice Loss\n",
        "    total_loss = alpha * standard_loss + beta * dice + gamma * penalty\n",
        "    return total_loss\n",
        "\n",
        "# Métrica de acurácia customizada\n",
        "def custom_accuracy(y_train, y_val):\n",
        "    # Calcular a acurácia considerando uma tolerância de 0.5 na predição\n",
        "    y_val_binary = tf.round(y_val)\n",
        "    accuracy = tf.reduce_mean(tf.cast(tf.equal(y_train, y_val_binary), tf.float32))\n",
        "    return accuracy"
      ]
    },
    {
      "cell_type": "markdown",
      "metadata": {
        "id": "5btDL6KcqLR8"
      },
      "source": [
        "# Modelo Pré-treinado MobileNetV2\n",
        "\n",
        "O modelo que utilizamos para fazer o transfer learning é o MobileNetV2, que pode ser encontrado o artigo de sua publicação no link:\n",
        "https://doi.org/10.48550/arXiv.1801.04381"
      ]
    },
    {
      "cell_type": "code",
      "execution_count": null,
      "metadata": {
        "colab": {
          "base_uri": "https://localhost:8080/"
        },
        "collapsed": true,
        "id": "V6otxFOrpik_",
        "outputId": "61e8c899-8030-42d4-f01a-b4ad19998a0b"
      },
      "outputs": [],
      "source": [
        "# Carregar o modelo MobileNetV2 pré-treinado\n",
        "pre_trained_model = MobileNetV2(weights='imagenet', include_top=False)\n",
        "\n",
        "# Visualizar a estrutura do modelo\n",
        "pre_trained_model.summary()"
      ]
    },
    {
      "cell_type": "code",
      "execution_count": null,
      "metadata": {
        "id": "pQzJkyv7qVyy"
      },
      "outputs": [],
      "source": [
        "class UNet:\n",
        "    def __init__(self, input_shape, num_filters, kernel_size, dropout_rate, val_reg):\n",
        "        self.input_shape = input_shape\n",
        "        self.num_filters = num_filters\n",
        "        self.kernel_size = kernel_size\n",
        "        self.dropout_rate = dropout_rate\n",
        "        self.val_reg = val_reg\n",
        "\n",
        "    def build_model(self):\n",
        "        inputs = tf.keras.Input(shape=self.input_shape)\n",
        "        reg = regularizers.L2(self.val_reg)\n",
        "\n",
        "        # Encoder (contraction path)\n",
        "        base_model = MobileNetV2(weights='imagenet', include_top=False, input_tensor=inputs)\n",
        "        base_model.trainable = False\n",
        "\n",
        "        # Extract specific layers for connections\n",
        "        conv2 = base_model.get_layer('block_1_expand').output\n",
        "        conv3 = base_model.get_layer('block_3_expand').output\n",
        "        decoded = base_model.get_layer('block_6_expand').output\n",
        "\n",
        "        # Decoder (expansion path)\n",
        "        up5 = layers.Conv2DTranspose(self.num_filters[2], (2, 2), strides=(2, 2), padding='same')(decoded)\n",
        "        merge5 = layers.concatenate([conv3, up5], axis=3)\n",
        "        conv5 = layers.Conv2D(self.num_filters[2], self.kernel_size, activation='relu', padding='same')(merge5)\n",
        "        conv5 = layers.Conv2D(self.num_filters[2], self.kernel_size, activation='relu', padding='same')(conv5)\n",
        "\n",
        "        up6 = layers.Conv2DTranspose(self.num_filters[1], (2, 2), strides=(2, 2), padding='same')(conv5)\n",
        "        merge6 = layers.concatenate([conv2, up6], axis=3)\n",
        "        conv6 = layers.Conv2D(self.num_filters[1], self.kernel_size, activation='relu', padding='same')(merge6)\n",
        "        conv6 = layers.Conv2D(self.num_filters[1], self.kernel_size, activation='relu', padding='same')(conv6)\n",
        "\n",
        "        up7 = layers.Conv2DTranspose(self.num_filters[0], (2, 2), strides=(2, 2), padding='same')(conv6)\n",
        "        conv7 = layers.Conv2D(self.num_filters[0], self.kernel_size, activation='relu', padding='same')(up7)\n",
        "        conv7 = layers.Conv2D(self.num_filters[0], self.kernel_size, activation='relu', padding='same')(conv7)\n",
        "\n",
        "        outputs = layers.Conv2D(1, (1, 1), activation='sigmoid')(conv7)  # Saída com um canal (máscara binária)\n",
        "\n",
        "        threshold_output = ThresholdLayer()(outputs)\n",
        "\n",
        "        model = tf.keras.Model(inputs=inputs, outputs=outputs)\n",
        "\n",
        "        return model\n",
        "\n",
        "    def compile_and_train(self, X_train, y_train, X_val, y_val, max_epochs, batch_size, alpha, beta, gamma, penalty_weight):\n",
        "        model = self.build_model()\n",
        "        callbacks = get_callbacks()\n",
        "\n",
        "        # Compilar o modelo\n",
        "        model.compile(optimizer=tf.keras.optimizers.Adam(learning_rate=1e-4),\n",
        "                      loss=lambda y_train, y_val: combined_loss(y_train, y_val, alpha, beta, gamma, penalty_weight),\n",
        "                      metrics=[custom_accuracy])\n",
        "\n",
        "        start_time = time.time()\n",
        "\n",
        "        # Treinar o modelo\n",
        "        H = model.fit(X_train, y_train, validation_data=(X_val, y_val),\n",
        "                      epochs=max_epochs, batch_size=batch_size, callbacks=callbacks)\n",
        "\n",
        "        # Salvar o tempo de treino\n",
        "        training_time_gpu = time.time() - start_time\n",
        "\n",
        "        return H, training_time_gpu, model\n"
      ]
    },
    {
      "cell_type": "code",
      "execution_count": null,
      "metadata": {
        "id": "loNPT4OttA8L"
      },
      "outputs": [],
      "source": [
        "def evaluate_model(model, X_val, y_val, H, training_time_gpu, max_epochs):\n",
        "    plt.style.use(\"ggplot\")\n",
        "    plt.figure(figsize=(12, 10))\n",
        "\n",
        "    start_time = time.time()\n",
        "\n",
        "    results = model.evaluate(X_val, y_val)\n",
        "\n",
        "    inference_time_gpu = time.time() - start_time\n",
        "\n",
        "    print(\"Test Loss:\", results[0])\n",
        "    print(\"Test Accuracy:\", results[1])\n",
        "\n",
        "    # Prever máscaras usando o modelo\n",
        "    predicted_masks = model.predict(X_val)\n",
        "\n",
        "    # Obter métricas de precisão e perda do treinamento\n",
        "    acc = H.history['custom_accuracy']\n",
        "    val_acc = H.history['val_custom_accuracy']\n",
        "    loss = H.history['loss']\n",
        "    val_loss = H.history['val_loss']\n",
        "\n",
        "    epochs = range(1, len(acc) + 1)\n",
        "\n",
        "    # Plotar precisão do conjunto\n",
        "    plt.subplot(2, 2, 3)\n",
        "    plt.plot(epochs, acc, 'r', label='Precisão do Conjunto de Treino')\n",
        "    plt.plot(epochs, val_acc, 'b', label='Precisão do Conjunto de Validação')\n",
        "    plt.title('Precisão do Conjunto de Treino e Validação')\n",
        "    plt.xlabel('Épocas')\n",
        "    plt.ylabel('Precisão')\n",
        "    plt.legend()\n",
        "\n",
        "    # Plotar perda do conjunto\n",
        "    plt.subplot(2, 2, 4)\n",
        "    plt.plot(epochs, loss, 'r', label='Perda do Conjunto de Treino')\n",
        "    plt.plot(epochs, val_loss, 'b', label='Perda do Conjunto de Validação')\n",
        "    plt.title('Perda do Conjunto de Treino e Validação')\n",
        "    plt.xlabel('Épocas')\n",
        "    plt.ylabel('Perda')\n",
        "    plt.legend()\n",
        "\n",
        "    plt.tight_layout()\n",
        "    plt.show()\n",
        "\n",
        "    print('Tempo de treino (segundos): ', training_time_gpu)\n",
        "    print('Tempo de treino por época (segundos): ', training_time_gpu / max_epochs)\n",
        "    print('Tempo de inferência (segundos): ', inference_time_gpu)\n",
        "\n",
        "    return predicted_masks, inference_time_gpu"
      ]
    },
    {
      "cell_type": "markdown",
      "metadata": {
        "id": "Hcl0QGvnZjd7"
      },
      "source": [
        "# Estudo de Hiperparâmetros - Função de Perda"
      ]
    },
    {
      "cell_type": "markdown",
      "metadata": {
        "id": "KffCqDVWZsbD"
      },
      "source": [
        "Tendo em vista a possibilidade de gerar um treino mais estável e que foque precisamente na tarefa de segmentar talhões, foi conduzido um estudo com Grid Search para encontrar os melhores valores de alfa, beta, gama e penalty_weight, valores estes que compõem a função de perda combinada, sendo alfa o fator multiplicativo da função de perda binary_crossentropy, beta o fator da dice loss e gama o fator da penalidade adicional (penalty_weight)"
      ]
    },
    {
      "cell_type": "code",
      "execution_count": null,
      "metadata": {
        "colab": {
          "base_uri": "https://localhost:8080/",
          "height": 1000
        },
        "id": "RGkYbGK_Uzt3",
        "outputId": "e3e8d2aa-8d6d-452c-c6cd-b882f97d86b8"
      },
      "outputs": [],
      "source": [
        "# Grid de parâmetros para busca\n",
        "param_grid = {\n",
        "    'alpha': [0.1, 1.0, 10.0],\n",
        "    'beta': [0.1, 1.0],\n",
        "    'gamma': [0.0001, 0.001, 0.01],\n",
        "    'penalty_weight': [0.0001, 0.001]\n",
        "}\n",
        "\n",
        "grid = ParameterGrid(param_grid)\n",
        "\n",
        "max_epochs = 30\n",
        "results = []\n",
        "\n",
        "test_counter = 1\n",
        "H_dict = {}\n",
        "training_time_dict = {}\n",
        "model_dict = {}\n",
        "\n",
        "for params in grid:\n",
        "    print(f'Teste {test_counter}: Testando com parâmetros: {params}')\n",
        "    model = UNet(input_shape=(256, 256, 3),\n",
        "                 num_filters=(16, 32, 64, 128),\n",
        "                 kernel_size = 3,\n",
        "                 dropout_rate=0.1,\n",
        "                 val_reg=0.01)\n",
        "\n",
        "    # Compilar e treinar o modelo com os parâmetros do grid search\n",
        "    H, training_time_gpu, model = model.compile_and_train(X_train, y_train, X_val, y_val,\n",
        "                                                          max_epochs=max_epochs,\n",
        "                                                          batch_size=16,\n",
        "                                                          alpha=params['alpha'],\n",
        "                                                          beta=params['beta'],\n",
        "                                                          gamma=params['gamma'],\n",
        "                                                          penalty_weight=params['penalty_weight'])\n",
        "\n",
        "    H_dict[f'H{test_counter}'] = H\n",
        "    training_time_dict[f'training_time_gpu{test_counter}'] = training_time_gpu\n",
        "    model_dict[f'model{test_counter}'] = model\n",
        "\n",
        "    predicted_masks, inference_time_gpu = evaluate_model(model, X_val, y_val, H, training_time_gpu, max_epochs=max_epochs)\n",
        "    val_loss = H.history['val_loss'][-1]\n",
        "    val_acc = H.history['val_custom_accuracy'][-1]\n",
        "    results.append((params, val_loss, val_acc))\n",
        "    test_counter += 1"
      ]
    },
    {
      "cell_type": "markdown",
      "metadata": {
        "id": "25AWLXwIcogm"
      },
      "source": [
        "Dessa forma, é possível compreender que o teste número 32 possui a maior acurácia, próximo a 84%, com um treinamento estável. As imagens resultantes da predição do modelo podem ser encontradas na seção a seguir.\n",
        "Cabe ressaltar que, com esse teste, a configuração da função de perda será:\n",
        "\n",
        "Teste 32: Testando com parâmetros: {'alpha': 10.0, 'beta': 1.0, 'gamma': 0.0001, 'penalty_weight': 0.001}"
      ]
    },
    {
      "cell_type": "markdown",
      "metadata": {
        "id": "iUkKiT3jmoXB"
      },
      "source": [
        "# Modelo Final com Transfer Learning - MobileNetV2"
      ]
    },
    {
      "cell_type": "markdown",
      "metadata": {
        "id": "RL7cem_ne5is"
      },
      "source": [
        "## Treino e inferência com CPU\n",
        "\n",
        "Para esse teste com a CPU, é preciso apenas alocar uma máquina qualquer no colab, executar as células do início do notebook até o código abaixo."
      ]
    },
    {
      "cell_type": "code",
      "execution_count": null,
      "metadata": {
        "colab": {
          "base_uri": "https://localhost:8080/",
          "height": 1000
        },
        "id": "SiaeXSGcmoXJ",
        "outputId": "b0c4b6ac-2002-46eb-e6e7-5b073ba45d28"
      },
      "outputs": [],
      "source": [
        "max_epochs = 100\n",
        "\n",
        "model = UNet(input_shape=(256, 256, 3),\n",
        "                num_filters=(16, 32, 64, 128),\n",
        "                kernel_size = 3,\n",
        "                dropout_rate=0.1,\n",
        "                val_reg=0.01)\n",
        "\n",
        "# Compilar e treinar o modelo\n",
        "H, training_time_gpu, model = model.compile_and_train(X_train, y_train, X_val, y_val,\n",
        "                                                        max_epochs=max_epochs,\n",
        "                                                        batch_size=16,\n",
        "                                                        alpha=10.0,\n",
        "                                                        beta=1.0,\n",
        "                                                        gamma=0.0001,\n",
        "                                                        penalty_weight=0.001)\n",
        "\n",
        "predicted_masks, inference_time_gpu = evaluate_model(model, X_val, y_val, H, training_time_gpu, max_epochs=max_epochs)"
      ]
    },
    {
      "cell_type": "markdown",
      "metadata": {
        "id": "xNt2sNQFfu4f"
      },
      "source": [
        "## Treino e inferência com GPU\n",
        "Para fazer esse teste conecte uma máquina do colab que possua GPU. Embaixo de compartilhar, no canto superior direito está escrito \"Conect\". Clique na seta para baixo ao lado de conectar. Selecione \"Change runtime type\" e selecione uma máquina que tenha GPU no nome. A que utilizamos foi a T4 GPU. Após isso, execute as células do início do notebook até o código abaixo."
      ]
    },
    {
      "cell_type": "code",
      "execution_count": null,
      "metadata": {
        "colab": {
          "base_uri": "https://localhost:8080/",
          "height": 1000
        },
        "id": "mM7vOJJNgZrY",
        "outputId": "7b0f4a06-b6fa-44a8-c357-7ae41b4d54c1"
      },
      "outputs": [],
      "source": [
        "max_epochs = 200\n",
        "\n",
        "model = UNet(input_shape=(256, 256, 3),\n",
        "                num_filters=(16, 32, 64, 128),\n",
        "                kernel_size = 3,\n",
        "                dropout_rate=0.1,\n",
        "                val_reg=0.01)\n",
        "\n",
        "with tf.device('/gpu:0'):\n",
        "    # Compilar e treinar o modelo\n",
        "    H, training_time_gpu, model = model.compile_and_train(X_train, y_train, X_val, y_val,\n",
        "                                                            max_epochs=max_epochs,\n",
        "                                                            batch_size=16,\n",
        "                                                            alpha=10.0,\n",
        "                                                            beta=1.0,\n",
        "                                                            gamma=0.0001,\n",
        "                                                            penalty_weight=0.001)\n",
        "\n",
        "    predicted_masks, inference_time_gpu = evaluate_model(model, X_val, y_val, H, training_time_gpu, max_epochs=max_epochs)\n"
      ]
    },
    {
      "cell_type": "markdown",
      "metadata": {
        "id": "sy1DRMN9moXJ"
      },
      "source": [
        "## Amostragem das máscaras e IoU"
      ]
    },
    {
      "cell_type": "code",
      "execution_count": null,
      "metadata": {
        "colab": {
          "base_uri": "https://localhost:8080/",
          "height": 1000
        },
        "id": "7F4F5gFY4r6f",
        "outputId": "b40e4cd1-c1a8-46d3-88d0-57c8a10b1daf"
      },
      "outputs": [],
      "source": [
        "with tf.device('/gpu:0'):\n",
        "    # Gerar as saídas do modelo para um conjunto de entradas de teste\n",
        "    saidas_modelo1Net = model.predict(X_val)\n",
        "\n",
        "    # Iterar sobre cada saída do modelo\n",
        "    for i in range(len(X_val)):\n",
        "        # Obter a entrada correspondente e a saída real\n",
        "        img_entrada = X_val[i]\n",
        "        img_saida_real = y_val[i]\n",
        "\n",
        "        # Obter a saída gerada pelo modelo\n",
        "        #img_saida_modelo1Net = saidas_modelo1Net[i]\n",
        "        img_saida_modelo1Net = np.where(saidas_modelo1Net[i] < 0.5, 0, 1)\n",
        "\n",
        "        # Mostrar as imagens\n",
        "        plt.figure(figsize=(12, 4))\n",
        "\n",
        "        plt.subplot(1, 3, 1)\n",
        "        plt.imshow(img_entrada.squeeze(), cmap='gray')\n",
        "        plt.title('Entrada')\n",
        "        plt.axis('off')\n",
        "\n",
        "        plt.subplot(1, 3, 2)\n",
        "        plt.imshow(img_saida_real.squeeze(), cmap='gray')\n",
        "        plt.title('Saída Esperada')\n",
        "        plt.axis('off')\n",
        "\n",
        "        plt.subplot(1, 3, 3)\n",
        "        plt.imshow(img_saida_modelo1Net.squeeze(), cmap='gray')\n",
        "        plt.title('Saída do Modelo - GPU')\n",
        "        plt.axis('off')\n",
        "\n",
        "        plt.show()"
      ]
    },
    {
      "cell_type": "code",
      "execution_count": null,
      "metadata": {
        "colab": {
          "base_uri": "https://localhost:8080/"
        },
        "id": "eMZy6GoO4r6g",
        "outputId": "b0d71042-1af0-4f89-e6a5-a6fd2e9463ad"
      },
      "outputs": [],
      "source": [
        "with tf.device('/gpu:0'):\n",
        "    # Métricas do parceiro de Projeto:\n",
        "\n",
        "    # Lista para armazenar os scores de IoU\n",
        "    iou_scores = []\n",
        "    # Calcular IoUs e determinar predições corretas\n",
        "    correct_predictions = 0\n",
        "    iou_threshold = 0.5\n",
        "    for mask, result in zip(y_val, saidas_modelo1Net):\n",
        "        intersection = np.logical_and(mask, result)\n",
        "        union = np.logical_or(mask, result)\n",
        "        iou_score = np.sum(intersection) / np.sum(union) if np.sum(union) != 0 else 0\n",
        "        iou_scores.append(iou_score)\n",
        "        # Verificar se a predição é considerada correta (IoU >= threshold)\n",
        "        if iou_score >= iou_threshold:\n",
        "            correct_predictions += 1\n",
        "        print('IoU é: ' + str(iou_score))\n",
        "    # Calcular a média dos IoUs\n",
        "    iou_mean = np.mean(iou_scores)\n",
        "    print('Média dos IoU - GPU:', iou_mean)\n",
        "    # Calcular Coverage Ratio (CovR)\n",
        "    total_predictions = len(iou_scores)\n",
        "    covr = correct_predictions / total_predictions if total_predictions > 0 else 0\n",
        "    print('Coverage Ratio (CovR) - GPU:', covr)"
      ]
    },
    {
      "cell_type": "markdown",
      "metadata": {
        "id": "1IN4iOjzRyQf"
      },
      "source": [
        "# Testes com novas imagens"
      ]
    },
    {
      "cell_type": "markdown",
      "metadata": {
        "id": "mSZXJZ0cSBj-"
      },
      "source": [
        "## Importando as imagens"
      ]
    },
    {
      "cell_type": "code",
      "execution_count": null,
      "metadata": {
        "id": "_fyAjsjcR2Xm"
      },
      "outputs": [],
      "source": [
        "import os\n",
        "import cv2\n",
        "import numpy as np\n",
        "\n",
        "def load_masks(masks_dir, target_size=(1280, 1280), crop_size=(256, 256)):\n",
        "    masks = []\n",
        "    mask_filenames = []\n",
        "    ordered_masks = sorted(os.listdir(masks_dir))\n",
        "    for mask_name in ordered_masks:\n",
        "        mask_path = os.path.join(masks_dir, mask_name)\n",
        "        mask = cv2.imread(mask_path, cv2.IMREAD_GRAYSCALE)\n",
        "        if mask is not None:\n",
        "            if mask.shape[:2] != target_size:\n",
        "                mask = cv2.resize(mask, target_size[::-1], interpolation=cv2.INTER_NEAREST)\n",
        "            cropped_masks = crop_image(mask, crop_size)\n",
        "            normalized_masks = [crop / 255.0 for crop in cropped_masks]\n",
        "            masks.extend(normalized_masks)\n",
        "            mask_filenames.extend([f\"{os.path.splitext(mask_name)[0]}_crop_{i}\" for i in range(len(normalized_masks))])\n",
        "        else:\n",
        "            print(f\"Failed to load mask: {mask_path}\")\n",
        "    return masks, mask_filenames\n",
        "\n",
        "def load_images(image_dir, target_size=(1280, 1280), crop_size=(256, 256)):\n",
        "    images = []\n",
        "    image_filenames = []\n",
        "    ordered_images = sorted(os.listdir(image_dir))\n",
        "    for image_name in ordered_images:\n",
        "        image_path = os.path.join(image_dir, image_name)\n",
        "        image = cv2.imread(image_path)\n",
        "        if image is not None:\n",
        "            image = cv2.cvtColor(image, cv2.COLOR_BGR2RGB)\n",
        "            if image.shape[:2] != target_size:\n",
        "                image = cv2.resize(image, target_size[::-1])\n",
        "            cropped_images = crop_image(image, crop_size)\n",
        "            normalized_images = [crop / 255.0 for crop in cropped_images]\n",
        "            images.extend(normalized_images)\n",
        "            image_filenames.extend([f\"{os.path.splitext(image_name)[0]}_crop_{i}\" for i in range(len(normalized_images))])\n",
        "        else:\n",
        "            print(f\"Failed to load image: {image_path}\")\n",
        "    return images, image_filenames\n",
        "\n",
        "def crop_image(image, crop_size=(256, 256)):\n",
        "    crops = []\n",
        "    steps = [(0, 0), (0, image.shape[1] - crop_size[1]), (image.shape[0] - crop_size[0], 0),\n",
        "             (image.shape[0] - crop_size[0], image.shape[1] - crop_size[1]),\n",
        "             ((image.shape[0] - crop_size[0]) // 2, (image.shape[1] - crop_size[1]) // 2)]\n",
        "    for (i, j) in steps:\n",
        "        crop = image[i:i + crop_size[0], j:j + crop_size[1]]\n",
        "        crops.append(crop)\n",
        "    return crops\n",
        "\n",
        "# Paths\n",
        "masks_dir = '/content/drive/Shared drives/Grupo T de Tech/Data/dataset_inteli_test/masks'\n",
        "image_dir = '/content/drive/Shared drives/Grupo T de Tech/Data/dataset_inteli_test/tci_tifs'\n",
        "\n",
        "# Load images and masks\n",
        "masks_test, mask_filenames = load_masks(masks_dir)\n",
        "images_test, image_filenames = load_images(image_dir)\n"
      ]
    },
    {
      "cell_type": "code",
      "execution_count": null,
      "metadata": {
        "colab": {
          "base_uri": "https://localhost:8080/"
        },
        "id": "34LhLotgSFBX",
        "outputId": "796ebb21-fce0-4ac0-faaf-39360f1f0947"
      },
      "outputs": [],
      "source": [
        "# verificando o tamanho correto\n",
        "len(images_test)"
      ]
    },
    {
      "cell_type": "code",
      "execution_count": null,
      "metadata": {
        "colab": {
          "base_uri": "https://localhost:8080/"
        },
        "id": "QRDGi9SFSJm-",
        "outputId": "51ec58c9-5f97-48a2-ae90-a459ce6d56ca"
      },
      "outputs": [],
      "source": [
        "# Ensure the images are in the correct format for model prediction\n",
        "images_test = np.array(images_test)\n",
        "\n",
        "# Gerar as saídas do modelo para um conjunto de entradas de teste\n",
        "saidas_novas_imagens_modelo = model.predict(images_test)"
      ]
    },
    {
      "cell_type": "code",
      "execution_count": null,
      "metadata": {
        "colab": {
          "base_uri": "https://localhost:8080/",
          "height": 1000
        },
        "id": "ttfBzu7USPMR",
        "outputId": "24307c0a-2ecb-4860-a6db-34cbc250ec9c"
      },
      "outputs": [],
      "source": [
        "with tf.device('/gpu:0'):\n",
        "    # Iterar sobre cada saída do modelo\n",
        "    for i in range(len(images_test)):\n",
        "        # Obter a entrada correspondente e a saída real\n",
        "        img_entrada = images_test[i]\n",
        "        img_saida_real = masks_test[i]\n",
        "\n",
        "        # Obter a saída gerada pelo modelo\n",
        "        img_saida_modelo = saidas_novas_imagens_modelo[i]\n",
        "\n",
        "        # Mostrar as imagens\n",
        "        plt.figure(figsize=(12, 4))\n",
        "\n",
        "        plt.subplot(1, 3, 1)\n",
        "        plt.imshow(img_entrada.squeeze(), cmap='gray')\n",
        "        plt.title('Entrada')\n",
        "        plt.axis('off')\n",
        "\n",
        "        plt.subplot(1, 3, 2)\n",
        "        plt.imshow(img_saida_real.squeeze(), cmap='gray')\n",
        "        plt.title('Saída Esperada')\n",
        "        plt.axis('off')\n",
        "\n",
        "        plt.subplot(1, 3, 3)\n",
        "        plt.imshow(img_saida_modelo.squeeze(), cmap='gray')\n",
        "        plt.title('Saída do Modelo - GPU')\n",
        "        plt.axis('off')\n",
        "\n",
        "        plt.show()"
      ]
    },
    {
      "cell_type": "code",
      "execution_count": null,
      "metadata": {
        "colab": {
          "base_uri": "https://localhost:8080/"
        },
        "id": "0FOtR6fVmL0U",
        "outputId": "a0346e5e-0162-40d6-efab-6d3b64a483c4"
      },
      "outputs": [],
      "source": [
        "with tf.device('/gpu:0'):\n",
        "    # Métricas do parceiro de Projeto:\n",
        "\n",
        "    # Lista para armazenar os scores de IoU\n",
        "    iou_scores = []\n",
        "    # Calcular IoUs e determinar predições corretas\n",
        "    correct_predictions = 0\n",
        "    iou_threshold = 0.5\n",
        "    for mask, result in zip(masks_test, saidas_novas_imagens_modelo):\n",
        "        intersection = np.logical_and(mask, result)\n",
        "        union = np.logical_or(mask, result)\n",
        "        iou_score = np.sum(intersection) / np.sum(union) if np.sum(union) != 0 else 0\n",
        "        iou_scores.append(iou_score)\n",
        "        # Verificar se a predição é considerada correta (IoU >= threshold)\n",
        "        if iou_score >= iou_threshold:\n",
        "            correct_predictions += 1\n",
        "        print('IoU é: ' + str(iou_score))\n",
        "    # Calcular a média dos IoUs\n",
        "    iou_mean = np.mean(iou_scores)\n",
        "    print('Média dos IoU - GPU:', iou_mean)\n",
        "    # Calcular Coverage Ratio (CovR)\n",
        "    total_predictions = len(iou_scores)\n",
        "    covr = correct_predictions / total_predictions if total_predictions > 0 else 0\n",
        "    print('Coverage Ratio (CovR) - GPU:', covr)"
      ]
    },
    {
      "cell_type": "markdown",
      "metadata": {},
      "source": [
        "# Matriz de Risco"
      ]
    },
    {
      "cell_type": "code",
      "execution_count": null,
      "metadata": {},
      "outputs": [],
      "source": [
        "# Converter 'y_val' para binário também, se necessário\n",
        "y_val_bin = np.where(y_val < 0.5, 0, 1).reshape(-1)\n",
        "\n",
        "# Achatar as saídas preditas para cálculo da matriz de confusão\n",
        "saidas_modelo1Net_flat = saidas_modelo1Net.reshape(-1)\n",
        "\n",
        "# Calcular a matriz de confusão\n",
        "cm = confusion_matrix(y_val_bin, saidas_modelo1Net_flat)\n",
        "\n",
        "# Calcular precisão, recall e F1-score\n",
        "precision = precision_score(y_val_bin, saidas_modelo1Net_flat)\n",
        "recall = recall_score(y_val_bin, saidas_modelo1Net_flat)\n",
        "f1 = f1_score(y_val_bin, saidas_modelo1Net_flat)\n",
        "\n",
        "# Plotar a matriz de confusão\n",
        "plt.figure(figsize=(8, 6))\n",
        "sns.heatmap(cm, annot=True, fmt=\"d\", cmap=\"Blues\")\n",
        "plt.title('Matriz de Confusão')\n",
        "plt.ylabel('Verdadeiro')\n",
        "plt.xlabel('Predito')\n",
        "plt.show()"
      ]
    },
    {
      "cell_type": "markdown",
      "metadata": {},
      "source": [
        "![image.png](data:image/png;base64,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)"
      ]
    },
    {
      "cell_type": "markdown",
      "metadata": {
        "id": "z4WO5UXTmikl"
      },
      "source": [
        "# Pós processamento"
      ]
    },
    {
      "cell_type": "code",
      "execution_count": null,
      "metadata": {
        "colab": {
          "base_uri": "https://localhost:8080/"
        },
        "id": "2PfsMAkSmkCZ",
        "outputId": "e14b9165-2d87-4d9c-8e6a-a3d4517309dd"
      },
      "outputs": [],
      "source": [
        "!pip install git+https://github.com/lucasb-eyer/pydensecrf.git\n",
        "\n",
        "import numpy as np\n",
        "import cv2\n",
        "import pydensecrf.densecrf as dcrf\n",
        "from pydensecrf.utils import unary_from_softmax\n",
        "from sklearn.metrics import jaccard_score\n",
        "from tqdm import tqdm\n",
        "\n",
        "def postprocess_mask_with_crf(image, mask, crf_params):\n",
        "    softmax = np.stack([1 - mask, mask], axis=-1)\n",
        "    softmax = np.ascontiguousarray(softmax.transpose(2, 0, 1))\n",
        "    image = np.ascontiguousarray(image)\n",
        "    image_uint8 = (image * 255).astype(np.uint8)\n",
        "    d = dcrf.DenseCRF2D(image.shape[1], image.shape[0], 2)\n",
        "    unary = unary_from_softmax(softmax)\n",
        "    d.setUnaryEnergy(unary)\n",
        "    d.addPairwiseGaussian(sxy=crf_params['sxy'], compat=crf_params['compat'])\n",
        "    d.addPairwiseBilateral(sxy=crf_params['sxy_bilateral'], srgb=crf_params['srgb'], rgbim=image_uint8, compat=crf_params['compat_bilateral'])\n",
        "    Q = d.inference(5)\n",
        "    refined_mask = np.argmax(Q, axis=0).reshape((image.shape[0], image.shape[1]))\n",
        "    return refined_mask / 255.0\n",
        "\n",
        "best_crf_params = {\n",
        "    'sxy': 5,\n",
        "    'compat': 3,\n",
        "    'sxy_bilateral': 81,\n",
        "    'srgb': 10,\n",
        "    'compat_bilateral': 20\n",
        "}\n",
        "\n",
        "# Cálculo para operações morfológicas\n",
        "def postprocess_mask_with_morphology(mask, morph_params):\n",
        "    refined_mask = (mask * 255).astype(np.uint8)\n",
        "    kernel = cv2.getStructuringElement(morph_params['shape'], morph_params['kernel_size'])\n",
        "    if morph_params['operation'] == 'open':\n",
        "        refined_mask = cv2.morphologyEx(refined_mask, cv2.MORPH_OPEN, kernel, iterations=morph_params['iterations'])\n",
        "    elif morph_params['operation'] == 'close':\n",
        "        refined_mask = cv2.morphologyEx(refined_mask, cv2.MORPH_CLOSE, kernel, iterations=morph_params['iterations'])\n",
        "    elif morph_params['operation'] == 'dilate':\n",
        "        refined_mask = cv2.dilate(refined_mask, kernel, iterations=morph_params['iterations'])\n",
        "    elif morph_params['operation'] == 'erode':\n",
        "        refined_mask = cv2.erode(refined_mask, kernel, iterations=morph_params['iterations'])\n",
        "    return refined_mask / 255.0\n",
        "\n",
        "best_morph_params = {\n",
        "    'kernel_size': (3,3),\n",
        "    'iterations': 1,\n",
        "    'operation': 'dilate',\n",
        "    'shape': cv2.MORPH_CROSS\n",
        "}\n",
        "\n",
        "def morphology_then_crf(image, mask, morph_params, crf_params):\n",
        "    morph_mask = postprocess_mask_with_morphology(mask, morph_params)\n",
        "    refined_mask = postprocess_mask_with_crf(image, morph_mask, crf_params)\n",
        "    return refined_mask"
      ]
    },
    {
      "cell_type": "code",
      "execution_count": null,
      "metadata": {
        "id": "iL6rXWeInTHi"
      },
      "outputs": [],
      "source": [
        "# Pós-processar as máscaras preditas com CRF denso\n",
        "saidas_modelo_postprocessed = np.array([morphology_then_crf(images_test[i], saidas_novas_imagens_modelo[i].squeeze(), best_morph_params, best_crf_params) for i in range(len(saidas_novas_imagens_modelo))])"
      ]
    },
    {
      "cell_type": "code",
      "execution_count": null,
      "metadata": {
        "colab": {
          "base_uri": "https://localhost:8080/"
        },
        "id": "VFwqMYGHnvkc",
        "outputId": "fa9a1cd7-3773-47e5-ad1e-d323395ea919"
      },
      "outputs": [],
      "source": [
        "# Converter as máscaras de teste para binário (0 e 1)\n",
        "masks_test_binary = (np.array(masks_test) > 0).astype(np.uint8)\n",
        "saidas_modelo_postprocessed_binary = (saidas_modelo_postprocessed > 0).astype(np.uint8)\n",
        "\n",
        "# Calcular Jaccard Score\n",
        "jaccard_scores = [jaccard_score(masks_test_binary[i].flatten(), saidas_modelo_postprocessed_binary[i].flatten(), average='binary') for i in range(len(masks_test))]\n",
        "print(f\"Jaccard Score: {np.mean(jaccard_scores)}\")\n"
      ]
    },
    {
      "cell_type": "code",
      "execution_count": null,
      "metadata": {
        "colab": {
          "base_uri": "https://localhost:8080/",
          "height": 1000
        },
        "id": "O94vp7orn3qs",
        "outputId": "66baabd9-b792-4837-d0b6-ba52e1715fb2"
      },
      "outputs": [],
      "source": [
        "with tf.device('/gpu:0'):\n",
        "    # Iterar sobre cada saída do modelo\n",
        "    for i in range(len(images_test)):\n",
        "        # Obter a entrada correspondente e a saída real\n",
        "        img_entrada = masks_test[i]\n",
        "        img_saida_real = saidas_novas_imagens_modelo[i]\n",
        "\n",
        "        # Obter a saída gerada pelo modelo\n",
        "        img_saida_modelo = saidas_modelo_postprocessed[i]\n",
        "\n",
        "        # Mostrar as imagens\n",
        "        plt.figure(figsize=(12, 4))\n",
        "\n",
        "        plt.subplot(1, 3, 1)\n",
        "        plt.imshow(img_entrada.squeeze(), cmap='gray')\n",
        "        plt.title('saida real')\n",
        "        plt.axis('off')\n",
        "\n",
        "        plt.subplot(1, 3, 2)\n",
        "        plt.imshow(img_saida_real.squeeze(), cmap='gray')\n",
        "        plt.title('Saída modelo')\n",
        "        plt.axis('off')\n",
        "\n",
        "        plt.subplot(1, 3, 3)\n",
        "        plt.imshow(img_saida_modelo.squeeze(), cmap='gray')\n",
        "        plt.title('Saída do Modelo - pós')\n",
        "        plt.axis('off')\n",
        "\n",
        "        plt.show()"
      ]
    },
    {
      "cell_type": "code",
      "execution_count": null,
      "metadata": {
        "id": "pushMzE7oAvz"
      },
      "outputs": [],
      "source": []
    }
  ],
  "metadata": {
    "accelerator": "GPU",
    "colab": {
      "collapsed_sections": [
        "cQl90jW20q1D",
        "3xSP-0NwWdAq"
      ],
      "gpuType": "T4",
      "provenance": []
    },
    "kernelspec": {
      "display_name": "Python 3",
      "name": "python3"
    },
    "language_info": {
      "name": "python",
      "version": "3.11.3"
    }
  },
  "nbformat": 4,
  "nbformat_minor": 0
}
